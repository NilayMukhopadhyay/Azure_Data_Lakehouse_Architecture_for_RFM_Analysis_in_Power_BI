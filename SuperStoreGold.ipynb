{
 "cells": [
  {
   "cell_type": "code",
   "execution_count": 0,
   "metadata": {
    "application/vnd.databricks.v1+cell": {
     "cellMetadata": {
      "byteLimit": 2048000,
      "rowLimit": 10000
     },
     "inputWidgets": {},
     "nuid": "07dca19a-30a5-440c-bc9e-816a824827c4",
     "showTitle": false,
     "tableResultSettingsMap": {},
     "title": ""
    }
   },
   "outputs": [
    {
     "output_type": "stream",
     "name": "stdout",
     "output_type": "stream",
     "text": [
      "Out[3]: True"
     ]
    }
   ],
   "source": [
    "# Databricks notebook source\n",
    "dbutils.fs.mount(\n",
    "  source = \"wasbs://silver@sanilayanalytics.blob.core.windows.net\",\n",
    "  mount_point = \"/mnt/superstore_silver\",\n",
    "  extra_configs = {\"fs.azure.account.key.sanilayanalytics.blob.core.windows.net\":\"STORAGEKEY\"})\n"
   ]
  },
  {
   "cell_type": "code",
   "execution_count": 0,
   "metadata": {
    "application/vnd.databricks.v1+cell": {
     "cellMetadata": {
      "byteLimit": 2048000,
      "rowLimit": 10000
     },
     "inputWidgets": {},
     "nuid": "8ab20fd6-5432-4233-b574-c0477c0d882b",
     "showTitle": false,
     "tableResultSettingsMap": {},
     "title": ""
    }
   },
   "outputs": [
    {
     "output_type": "stream",
     "name": "stdout",
     "output_type": "stream",
     "text": [
      "Out[5]: [FileInfo(path='dbfs:/mnt/superstore_silver/global_superstore_silver/', name='global_superstore_silver/', size=0, modificationTime=0)]"
     ]
    }
   ],
   "source": [
    "# List files/folders inside the Silver mount point\n",
    "dbutils.fs.ls(\"/mnt/superstore_silver\")\n"
   ]
  },
  {
   "cell_type": "code",
   "execution_count": 0,
   "metadata": {
    "application/vnd.databricks.v1+cell": {
     "cellMetadata": {
      "byteLimit": 2048000,
      "rowLimit": 10000
     },
     "inputWidgets": {},
     "nuid": "22d3b356-a868-4103-aaea-daa56d09d03b",
     "showTitle": false,
     "tableResultSettingsMap": {},
     "title": ""
    }
   },
   "outputs": [
    {
     "output_type": "display_data",
     "data": {
      "text/html": [
       "<style scoped>\n",
       "  .table-result-container {\n",
       "    max-height: 300px;\n",
       "    overflow: auto;\n",
       "  }\n",
       "  table, th, td {\n",
       "    border: 1px solid black;\n",
       "    border-collapse: collapse;\n",
       "  }\n",
       "  th, td {\n",
       "    padding: 5px;\n",
       "  }\n",
       "  th {\n",
       "    text-align: left;\n",
       "  }\n",
       "</style><div class='table-result-container'><table class='table-result'><thead style='background-color: white'><tr><th>product_name</th><th>row_id</th><th>order_id</th><th>order_date</th><th>ship_date</th><th>ship_mode</th><th>customer_id</th><th>customer_name</th><th>segment</th><th>city</th><th>state</th><th>country</th><th>postal_code</th><th>market</th><th>region</th><th>category</th><th>sub-category</th><th>sales</th><th>quantity</th><th>discount</th><th>profit</th><th>shipping_cost</th><th>order_priority</th><th>product_key</th></tr></thead><tbody><tr><td>Plantronics CS510 - Over-the-Head monaural Wireless Headset System</td><td>32298</td><td>CA-2012-124891</td><td>2012-07-31</td><td>2012-07-31</td><td>Same Day</td><td>RH-19495</td><td>Rick Hansen</td><td>Consumer</td><td>New York City</td><td>New York</td><td>United States</td><td>10024</td><td>US</td><td>East</td><td>Technology</td><td>Accessories</td><td>2309.65</td><td>7</td><td>0.00</td><td>762.18</td><td>933.57</td><td>Critical</td><td>2751</td></tr><tr><td>Novimex Executive Leather Armchair- Black</td><td>26341</td><td>IN-2013-77878</td><td>2013-02-05</td><td>2013-02-07</td><td>Second Class</td><td>JR-16210</td><td>Justin Ritter</td><td>Corporate</td><td>Wollongong</td><td>New South Wales</td><td>Australia</td><td>null</td><td>APAC</td><td>Oceania</td><td>Furniture</td><td>Chairs</td><td>3709.40</td><td>9</td><td>0.10</td><td>-288.77</td><td>923.63</td><td>Critical</td><td>2526</td></tr><tr><td>Nokia Smart Phone- with Caller ID</td><td>25330</td><td>IN-2013-71249</td><td>2013-10-17</td><td>2013-10-18</td><td>First Class</td><td>CR-12730</td><td>Craig Reiter</td><td>Consumer</td><td>Brisbane</td><td>Queensland</td><td>Australia</td><td>null</td><td>APAC</td><td>Oceania</td><td>Technology</td><td>Phones</td><td>5175.17</td><td>9</td><td>0.10</td><td>919.97</td><td>915.49</td><td>Medium</td><td>2503</td></tr><tr><td>Motorola Smart Phone- Cordless</td><td>13524</td><td>ES-2013-1579342</td><td>2013-01-28</td><td>2013-01-30</td><td>First Class</td><td>KM-16375</td><td>Katherine Murray</td><td>Home Office</td><td>Berlin</td><td>Berlin</td><td>Germany</td><td>null</td><td>EU</td><td>Central</td><td>Technology</td><td>Phones</td><td>2892.51</td><td>5</td><td>0.10</td><td>-96.54</td><td>910.16</td><td>Medium</td><td>2415</td></tr><tr><td>Sharp Wireless Fax- High-Speed</td><td>47221</td><td>SG-2013-4320</td><td>2013-11-05</td><td>2013-11-06</td><td>Same Day</td><td>RH-9495</td><td>Rick Hansen</td><td>Consumer</td><td>Dakar</td><td>Dakar</td><td>Senegal</td><td>null</td><td>Africa</td><td>Africa</td><td>Technology</td><td>Copiers</td><td>2832.96</td><td>8</td><td>0.00</td><td>311.52</td><td>903.04</td><td>Critical</td><td>3159</td></tr><tr><td>Samsung Smart Phone- with Caller ID</td><td>22732</td><td>IN-2013-42360</td><td>2013-06-28</td><td>2013-07-01</td><td>Second Class</td><td>JM-15655</td><td>Jim Mitchum</td><td>Corporate</td><td>Sydney</td><td>New South Wales</td><td>Australia</td><td>null</td><td>APAC</td><td>Oceania</td><td>Technology</td><td>Phones</td><td>2862.68</td><td>5</td><td>0.10</td><td>763.28</td><td>897.35</td><td>Critical</td><td>2992</td></tr><tr><td>Novimex Executive Leather Armchair- Adjustable</td><td>30570</td><td>IN-2011-81826</td><td>2011-11-07</td><td>2011-11-09</td><td>First Class</td><td>TS-21340</td><td>Toby Swindell</td><td>Consumer</td><td>Porirua</td><td>Wellington</td><td>New Zealand</td><td>null</td><td>APAC</td><td>Oceania</td><td>Furniture</td><td>Chairs</td><td>1822.08</td><td>4</td><td>0.00</td><td>564.84</td><td>894.77</td><td>Critical</td><td>2525</td></tr><tr><td>Chromcraft Conference Table- Fully Assembled</td><td>31192</td><td>IN-2012-86369</td><td>2012-04-14</td><td>2012-04-18</td><td>Standard Class</td><td>MB-18085</td><td>Mick Brown</td><td>Consumer</td><td>Hamilton</td><td>Waikato</td><td>New Zealand</td><td>null</td><td>APAC</td><td>Oceania</td><td>Furniture</td><td>Tables</td><td>5244.84</td><td>6</td><td>0.00</td><td>996.48</td><td>878.38</td><td>High</td><td>922</td></tr><tr><td>Fellowes PB500 Electric Punch Plastic Comb Binding Machine with Manual Bind</td><td>40155</td><td>CA-2014-135909</td><td>2014-10-14</td><td>2014-10-21</td><td>Standard Class</td><td>JW-15220</td><td>Jane Waco</td><td>Corporate</td><td>Sacramento</td><td>California</td><td>United States</td><td>95823</td><td>US</td><td>West</td><td>Office Supplies</td><td>Binders</td><td>5083.96</td><td>5</td><td>0.20</td><td>1906.49</td><td>867.69</td><td>Low</td><td>1430</td></tr><tr><td>Chromcraft Bull-Nose Wood Oval Conference Tables & Bases</td><td>40936</td><td>CA-2012-116638</td><td>2012-01-28</td><td>2012-01-31</td><td>Second Class</td><td>JH-15985</td><td>Joseph Holt</td><td>Consumer</td><td>Concord</td><td>North Carolina</td><td>United States</td><td>28027</td><td>US</td><td>South</td><td>Furniture</td><td>Tables</td><td>4297.64</td><td>13</td><td>0.40</td><td>-1862.31</td><td>865.74</td><td>Critical</td><td>911</td></tr></tbody></table></div>"
      ]
     },
     "metadata": {
      "application/vnd.databricks.v1+output": {
       "addedWidgets": {},
       "aggData": [],
       "aggError": "",
       "aggOverflow": false,
       "aggSchema": [],
       "aggSeriesLimitReached": false,
       "aggType": "",
       "arguments": {},
       "columnCustomDisplayInfos": {},
       "data": [
        [
         "Plantronics CS510 - Over-the-Head monaural Wireless Headset System",
         "32298",
         "CA-2012-124891",
         "2012-07-31",
         "2012-07-31",
         "Same Day",
         "RH-19495",
         "Rick Hansen",
         "Consumer",
         "New York City",
         "New York",
         "United States",
         "10024",
         "US",
         "East",
         "Technology",
         "Accessories",
         "2309.65",
         7,
         "0.00",
         "762.18",
         "933.57",
         "Critical",
         2751
        ],
        [
         "Novimex Executive Leather Armchair- Black",
         "26341",
         "IN-2013-77878",
         "2013-02-05",
         "2013-02-07",
         "Second Class",
         "JR-16210",
         "Justin Ritter",
         "Corporate",
         "Wollongong",
         "New South Wales",
         "Australia",
         null,
         "APAC",
         "Oceania",
         "Furniture",
         "Chairs",
         "3709.40",
         9,
         "0.10",
         "-288.77",
         "923.63",
         "Critical",
         2526
        ],
        [
         "Nokia Smart Phone- with Caller ID",
         "25330",
         "IN-2013-71249",
         "2013-10-17",
         "2013-10-18",
         "First Class",
         "CR-12730",
         "Craig Reiter",
         "Consumer",
         "Brisbane",
         "Queensland",
         "Australia",
         null,
         "APAC",
         "Oceania",
         "Technology",
         "Phones",
         "5175.17",
         9,
         "0.10",
         "919.97",
         "915.49",
         "Medium",
         2503
        ],
        [
         "Motorola Smart Phone- Cordless",
         "13524",
         "ES-2013-1579342",
         "2013-01-28",
         "2013-01-30",
         "First Class",
         "KM-16375",
         "Katherine Murray",
         "Home Office",
         "Berlin",
         "Berlin",
         "Germany",
         null,
         "EU",
         "Central",
         "Technology",
         "Phones",
         "2892.51",
         5,
         "0.10",
         "-96.54",
         "910.16",
         "Medium",
         2415
        ],
        [
         "Sharp Wireless Fax- High-Speed",
         "47221",
         "SG-2013-4320",
         "2013-11-05",
         "2013-11-06",
         "Same Day",
         "RH-9495",
         "Rick Hansen",
         "Consumer",
         "Dakar",
         "Dakar",
         "Senegal",
         null,
         "Africa",
         "Africa",
         "Technology",
         "Copiers",
         "2832.96",
         8,
         "0.00",
         "311.52",
         "903.04",
         "Critical",
         3159
        ],
        [
         "Samsung Smart Phone- with Caller ID",
         "22732",
         "IN-2013-42360",
         "2013-06-28",
         "2013-07-01",
         "Second Class",
         "JM-15655",
         "Jim Mitchum",
         "Corporate",
         "Sydney",
         "New South Wales",
         "Australia",
         null,
         "APAC",
         "Oceania",
         "Technology",
         "Phones",
         "2862.68",
         5,
         "0.10",
         "763.28",
         "897.35",
         "Critical",
         2992
        ],
        [
         "Novimex Executive Leather Armchair- Adjustable",
         "30570",
         "IN-2011-81826",
         "2011-11-07",
         "2011-11-09",
         "First Class",
         "TS-21340",
         "Toby Swindell",
         "Consumer",
         "Porirua",
         "Wellington",
         "New Zealand",
         null,
         "APAC",
         "Oceania",
         "Furniture",
         "Chairs",
         "1822.08",
         4,
         "0.00",
         "564.84",
         "894.77",
         "Critical",
         2525
        ],
        [
         "Chromcraft Conference Table- Fully Assembled",
         "31192",
         "IN-2012-86369",
         "2012-04-14",
         "2012-04-18",
         "Standard Class",
         "MB-18085",
         "Mick Brown",
         "Consumer",
         "Hamilton",
         "Waikato",
         "New Zealand",
         null,
         "APAC",
         "Oceania",
         "Furniture",
         "Tables",
         "5244.84",
         6,
         "0.00",
         "996.48",
         "878.38",
         "High",
         922
        ],
        [
         "Fellowes PB500 Electric Punch Plastic Comb Binding Machine with Manual Bind",
         "40155",
         "CA-2014-135909",
         "2014-10-14",
         "2014-10-21",
         "Standard Class",
         "JW-15220",
         "Jane Waco",
         "Corporate",
         "Sacramento",
         "California",
         "United States",
         "95823",
         "US",
         "West",
         "Office Supplies",
         "Binders",
         "5083.96",
         5,
         "0.20",
         "1906.49",
         "867.69",
         "Low",
         1430
        ],
        [
         "Chromcraft Bull-Nose Wood Oval Conference Tables & Bases",
         "40936",
         "CA-2012-116638",
         "2012-01-28",
         "2012-01-31",
         "Second Class",
         "JH-15985",
         "Joseph Holt",
         "Consumer",
         "Concord",
         "North Carolina",
         "United States",
         "28027",
         "US",
         "South",
         "Furniture",
         "Tables",
         "4297.64",
         13,
         "0.40",
         "-1862.31",
         "865.74",
         "Critical",
         911
        ]
       ],
       "datasetInfos": [],
       "dbfsResultPath": null,
       "isJsonSchema": true,
       "metadata": {},
       "overflow": false,
       "plotOptions": {
        "customPlotOptions": {},
        "displayType": "table",
        "pivotAggregation": null,
        "pivotColumns": null,
        "xColumns": null,
        "yColumns": null
       },
       "removedWidgets": [],
       "schema": [
        {
         "metadata": "{}",
         "name": "product_name",
         "type": "\"string\""
        },
        {
         "metadata": "{}",
         "name": "row_id",
         "type": "\"string\""
        },
        {
         "metadata": "{}",
         "name": "order_id",
         "type": "\"string\""
        },
        {
         "metadata": "{}",
         "name": "order_date",
         "type": "\"date\""
        },
        {
         "metadata": "{}",
         "name": "ship_date",
         "type": "\"date\""
        },
        {
         "metadata": "{}",
         "name": "ship_mode",
         "type": "\"string\""
        },
        {
         "metadata": "{}",
         "name": "customer_id",
         "type": "\"string\""
        },
        {
         "metadata": "{}",
         "name": "customer_name",
         "type": "\"string\""
        },
        {
         "metadata": "{}",
         "name": "segment",
         "type": "\"string\""
        },
        {
         "metadata": "{}",
         "name": "city",
         "type": "\"string\""
        },
        {
         "metadata": "{}",
         "name": "state",
         "type": "\"string\""
        },
        {
         "metadata": "{}",
         "name": "country",
         "type": "\"string\""
        },
        {
         "metadata": "{}",
         "name": "postal_code",
         "type": "\"string\""
        },
        {
         "metadata": "{}",
         "name": "market",
         "type": "\"string\""
        },
        {
         "metadata": "{}",
         "name": "region",
         "type": "\"string\""
        },
        {
         "metadata": "{}",
         "name": "category",
         "type": "\"string\""
        },
        {
         "metadata": "{}",
         "name": "sub-category",
         "type": "\"string\""
        },
        {
         "metadata": "{}",
         "name": "sales",
         "type": "\"decimal(10,2)\""
        },
        {
         "metadata": "{}",
         "name": "quantity",
         "type": "\"integer\""
        },
        {
         "metadata": "{}",
         "name": "discount",
         "type": "\"decimal(4,2)\""
        },
        {
         "metadata": "{}",
         "name": "profit",
         "type": "\"decimal(10,2)\""
        },
        {
         "metadata": "{}",
         "name": "shipping_cost",
         "type": "\"decimal(10,2)\""
        },
        {
         "metadata": "{}",
         "name": "order_priority",
         "type": "\"string\""
        },
        {
         "metadata": "{}",
         "name": "product_key",
         "type": "\"integer\""
        }
       ],
       "type": "table"
      }
     },
     "output_type": "display_data"
    }
   ],
   "source": [
    "# Define the path to the folder or file inside your Silver mount\n",
    "silver_path = \"/mnt/superstore_silver/global_superstore_silver/\"\n",
    "\n",
    "# Read the Parquet files into a Spark DataFrame\n",
    "df_silver = spark.read.parquet(silver_path)\n",
    "\n",
    "# Show a sample of the data to verify\n",
    "display(df_silver.limit(10))\n"
   ]
  },
  {
   "cell_type": "code",
   "execution_count": 0,
   "metadata": {
    "application/vnd.databricks.v1+cell": {
     "cellMetadata": {
      "byteLimit": 2048000,
      "implicitDf": true,
      "rowLimit": 10000
     },
     "inputWidgets": {},
     "nuid": "dd6ebde6-3950-4174-97cf-5cf5481d2ad3",
     "showTitle": false,
     "tableResultSettingsMap": {},
     "title": ""
    }
   },
   "outputs": [
    {
     "output_type": "display_data",
     "data": {
      "text/html": [
       "<style scoped>\n",
       "  .table-result-container {\n",
       "    max-height: 300px;\n",
       "    overflow: auto;\n",
       "  }\n",
       "  table, th, td {\n",
       "    border: 1px solid black;\n",
       "    border-collapse: collapse;\n",
       "  }\n",
       "  th, td {\n",
       "    padding: 5px;\n",
       "  }\n",
       "  th {\n",
       "    text-align: left;\n",
       "  }\n",
       "</style><div class='table-result-container'><table class='table-result'><thead style='background-color: white'><tr><th>customer_id</th><th>customer_name</th><th>max_date</th><th>recency</th><th>frequency</th><th>monetary</th><th>r_score</th><th>f_score</th><th>m_score</th><th>rfm</th><th>rfm_score</th></tr></thead><tbody><tr><td>KD-6270</td><td>Karen Daniels</td><td>2012-10-11</td><td>811</td><td>2</td><td>-1023.54</td><td>1</td><td>1</td><td>1</td><td>3</td><td>1</td></tr><tr><td>CG-2040</td><td>Catherine Glotzbach</td><td>2013-12-18</td><td>378</td><td>7</td><td>-395.91</td><td>1</td><td>1</td><td>1</td><td>3</td><td>1</td></tr><tr><td>DB-3120</td><td>David Bremer</td><td>2014-01-07</td><td>358</td><td>6</td><td>-242.12</td><td>1</td><td>1</td><td>1</td><td>3</td><td>1</td></tr><tr><td>CS-2130</td><td>Chad Sievert</td><td>2014-03-01</td><td>305</td><td>5</td><td>-645.52</td><td>1</td><td>1</td><td>1</td><td>3</td><td>1</td></tr><tr><td>SS-10875</td><td>Sung Shariari</td><td>2014-04-25</td><td>250</td><td>5</td><td>-707.82</td><td>1</td><td>1</td><td>1</td><td>3</td><td>1</td></tr><tr><td>TM-11010</td><td>Tamara Manning</td><td>2014-05-03</td><td>242</td><td>4</td><td>-270.50</td><td>1</td><td>1</td><td>1</td><td>3</td><td>1</td></tr><tr><td>DK-2985</td><td>Darren Koutras</td><td>2011-09-12</td><td>1206</td><td>1</td><td>-78.89</td><td>1</td><td>1</td><td>2</td><td>4</td><td>1</td></tr><tr><td>CT-1995</td><td>Carol Triggs</td><td>2012-11-08</td><td>783</td><td>3</td><td>-71.59</td><td>1</td><td>1</td><td>2</td><td>4</td><td>1</td></tr><tr><td>RC-9825</td><td>Roy Collins</td><td>2012-12-20</td><td>741</td><td>1</td><td>0.00</td><td>1</td><td>1</td><td>2</td><td>4</td><td>1</td></tr><tr><td>BG-1035</td><td>Barry Gonzalez</td><td>2013-05-10</td><td>600</td><td>1</td><td>-219.80</td><td>1</td><td>1</td><td>2</td><td>4</td><td>1</td></tr></tbody></table></div>"
      ]
     },
     "metadata": {
      "application/vnd.databricks.v1+output": {
       "addedWidgets": {},
       "aggData": [],
       "aggError": "",
       "aggOverflow": false,
       "aggSchema": [],
       "aggSeriesLimitReached": false,
       "aggType": "",
       "arguments": {},
       "columnCustomDisplayInfos": {},
       "data": [
        [
         "KD-6270",
         "Karen Daniels",
         "2012-10-11",
         811,
         2,
         "-1023.54",
         1,
         1,
         1,
         3,
         1
        ],
        [
         "CG-2040",
         "Catherine Glotzbach",
         "2013-12-18",
         378,
         7,
         "-395.91",
         1,
         1,
         1,
         3,
         1
        ],
        [
         "DB-3120",
         "David Bremer",
         "2014-01-07",
         358,
         6,
         "-242.12",
         1,
         1,
         1,
         3,
         1
        ],
        [
         "CS-2130",
         "Chad Sievert",
         "2014-03-01",
         305,
         5,
         "-645.52",
         1,
         1,
         1,
         3,
         1
        ],
        [
         "SS-10875",
         "Sung Shariari",
         "2014-04-25",
         250,
         5,
         "-707.82",
         1,
         1,
         1,
         3,
         1
        ],
        [
         "TM-11010",
         "Tamara Manning",
         "2014-05-03",
         242,
         4,
         "-270.50",
         1,
         1,
         1,
         3,
         1
        ],
        [
         "DK-2985",
         "Darren Koutras",
         "2011-09-12",
         1206,
         1,
         "-78.89",
         1,
         1,
         2,
         4,
         1
        ],
        [
         "CT-1995",
         "Carol Triggs",
         "2012-11-08",
         783,
         3,
         "-71.59",
         1,
         1,
         2,
         4,
         1
        ],
        [
         "RC-9825",
         "Roy Collins",
         "2012-12-20",
         741,
         1,
         "0.00",
         1,
         1,
         2,
         4,
         1
        ],
        [
         "BG-1035",
         "Barry Gonzalez",
         "2013-05-10",
         600,
         1,
         "-219.80",
         1,
         1,
         2,
         4,
         1
        ]
       ],
       "datasetInfos": [],
       "dbfsResultPath": null,
       "isJsonSchema": true,
       "metadata": {},
       "overflow": false,
       "plotOptions": {
        "customPlotOptions": {},
        "displayType": "table",
        "pivotAggregation": null,
        "pivotColumns": null,
        "xColumns": null,
        "yColumns": null
       },
       "removedWidgets": [],
       "schema": [
        {
         "metadata": "{}",
         "name": "customer_id",
         "type": "\"string\""
        },
        {
         "metadata": "{}",
         "name": "customer_name",
         "type": "\"string\""
        },
        {
         "metadata": "{}",
         "name": "max_date",
         "type": "\"date\""
        },
        {
         "metadata": "{}",
         "name": "recency",
         "type": "\"long\""
        },
        {
         "metadata": "{}",
         "name": "frequency",
         "type": "\"long\""
        },
        {
         "metadata": "{}",
         "name": "monetary",
         "type": "\"decimal(20,2)\""
        },
        {
         "metadata": "{}",
         "name": "r_score",
         "type": "\"integer\""
        },
        {
         "metadata": "{}",
         "name": "f_score",
         "type": "\"integer\""
        },
        {
         "metadata": "{}",
         "name": "m_score",
         "type": "\"integer\""
        },
        {
         "metadata": "{}",
         "name": "rfm",
         "type": "\"integer\""
        },
        {
         "metadata": "{}",
         "name": "rfm_score",
         "type": "\"integer\""
        }
       ],
       "type": "table"
      }
     },
     "output_type": "display_data"
    }
   ],
   "source": [
    "%sql\n",
    "-- Step 1: Create dim_customer with Recency, Frequency, Monetary values and R, F, M scores\n",
    "CREATE OR REPLACE TABLE dim_customer AS\n",
    "WITH CTE AS (\n",
    "    SELECT customer_id,\n",
    "           customer_name,\n",
    "           MAX(order_date) AS max_date,\n",
    "           DATEDIFF(\n",
    "               DAY,\n",
    "               MAX(order_date),\n",
    "               (SELECT MAX(order_date) FROM parquet.`/mnt/superstore_silver/global_superstore_silver/`)\n",
    "           ) AS recency,\n",
    "           COUNT(order_id) AS frequency,\n",
    "           SUM(profit) AS monetary\n",
    "    FROM parquet.`/mnt/superstore_silver/global_superstore_silver/`\n",
    "    GROUP BY customer_id, customer_name\n",
    "),\n",
    "CTE_2 AS (\n",
    "    SELECT *,\n",
    "           NTILE(10) OVER (ORDER BY recency DESC) AS r_score,\n",
    "           NTILE(10) OVER (ORDER BY frequency ASC) AS f_score,\n",
    "           NTILE(10) OVER (ORDER BY monetary ASC) AS m_score\n",
    "    FROM CTE\n",
    "),\n",
    "CTE_3 AS (\n",
    "    SELECT *,\n",
    "           (r_score + f_score + m_score) AS rfm\n",
    "    FROM CTE_2\n",
    ")\n",
    "SELECT *,\n",
    "       NTILE(10) OVER (ORDER BY rfm ASC) AS rfm_score\n",
    "FROM CTE_3;\n",
    "\n",
    "-- Step 2: Display 10 rows from the dim_customer table to verify\n",
    "SELECT * FROM dim_customer LIMIT 10;\n"
   ]
  },
  {
   "cell_type": "code",
   "execution_count": 0,
   "metadata": {
    "application/vnd.databricks.v1+cell": {
     "cellMetadata": {
      "byteLimit": 2048000,
      "rowLimit": 10000
     },
     "inputWidgets": {},
     "nuid": "d00c3bd4-6275-47fd-add1-ca4950cccba8",
     "showTitle": false,
     "tableResultSettingsMap": {},
     "title": ""
    }
   },
   "outputs": [
    {
     "output_type": "stream",
     "name": "stdout",
     "output_type": "stream",
     "text": [
      "product_name\nrow_id\norder_id\norder_date\nship_date\nship_mode\ncustomer_id\ncustomer_name\nsegment\ncity\nstate\ncountry\npostal_code\nmarket\nregion\ncategory\nsub-category\nsales\nquantity\ndiscount\nprofit\nshipping_cost\norder_priority\nproduct_key\n"
     ]
    }
   ],
   "source": [
    "# Checking the column names for craeting Dimension and Fact tables\n",
    "for col_name in df_silver.columns:\n",
    "    print(col_name)\n"
   ]
  },
  {
   "cell_type": "code",
   "execution_count": 0,
   "metadata": {
    "application/vnd.databricks.v1+cell": {
     "cellMetadata": {
      "byteLimit": 2048000,
      "rowLimit": 10000
     },
     "inputWidgets": {},
     "nuid": "356fa82b-1fa3-48e7-9b2c-7f3f7b6bc821",
     "showTitle": false,
     "tableResultSettingsMap": {},
     "title": ""
    }
   },
   "outputs": [
    {
     "output_type": "display_data",
     "data": {
      "text/html": [
       "<style scoped>\n",
       "  .table-result-container {\n",
       "    max-height: 300px;\n",
       "    overflow: auto;\n",
       "  }\n",
       "  table, th, td {\n",
       "    border: 1px solid black;\n",
       "    border-collapse: collapse;\n",
       "  }\n",
       "  th, td {\n",
       "    padding: 5px;\n",
       "  }\n",
       "  th {\n",
       "    text-align: left;\n",
       "  }\n",
       "</style><div class='table-result-container'><table class='table-result'><thead style='background-color: white'><tr><th>product_key</th><th>product_name</th><th>category</th><th>sub-category</th></tr></thead><tbody><tr><td>1</td><td>\"While you Were Out\"\" Message Book- One Form per Page\"</td><td>Office Supplies</td><td>Paper</td></tr><tr><td>2</td><td>#10 Gummed Flap White Envelopes- 100/Box</td><td>Office Supplies</td><td>Envelopes</td></tr><tr><td>3</td><td>#10 Self-Seal White Envelopes</td><td>Office Supplies</td><td>Envelopes</td></tr><tr><td>4</td><td>#10 White Business Envelopes-4 1/8 x 9 1/2</td><td>Office Supplies</td><td>Envelopes</td></tr><tr><td>5</td><td>#10- 4 1/8\" x 9 1/2\"\" Recycled Envelopes\"</td><td>Office Supplies</td><td>Envelopes</td></tr><tr><td>6</td><td>#10- 4 1/8\" x 9 1/2\"\" Security-Tint Envelopes\"</td><td>Office Supplies</td><td>Envelopes</td></tr><tr><td>7</td><td>#10-4 1/8\" x 9 1/2\"\" Premium Diagonal Seam Envelopes\"</td><td>Office Supplies</td><td>Envelopes</td></tr><tr><td>8</td><td>#6 3/4 Gummed Flap White Envelopes</td><td>Office Supplies</td><td>Envelopes</td></tr><tr><td>9</td><td>1.7 Cubic Foot Compact \"Cube\"\" Office Refrigerators\"</td><td>Office Supplies</td><td>Appliances</td></tr><tr><td>10</td><td>1/4 Fold Party Design Invitations & White Envelopes- 24 8-1/2\" X 11\"\" Cards- 25 Env./Pack\"</td><td>Office Supplies</td><td>Paper</td></tr></tbody></table></div>"
      ]
     },
     "metadata": {
      "application/vnd.databricks.v1+output": {
       "addedWidgets": {},
       "aggData": [],
       "aggError": "",
       "aggOverflow": false,
       "aggSchema": [],
       "aggSeriesLimitReached": false,
       "aggType": "",
       "arguments": {},
       "columnCustomDisplayInfos": {},
       "data": [
        [
         1,
         "\"While you Were Out\"\" Message Book- One Form per Page\"",
         "Office Supplies",
         "Paper"
        ],
        [
         2,
         "#10 Gummed Flap White Envelopes- 100/Box",
         "Office Supplies",
         "Envelopes"
        ],
        [
         3,
         "#10 Self-Seal White Envelopes",
         "Office Supplies",
         "Envelopes"
        ],
        [
         4,
         "#10 White Business Envelopes-4 1/8 x 9 1/2",
         "Office Supplies",
         "Envelopes"
        ],
        [
         5,
         "#10- 4 1/8\" x 9 1/2\"\" Recycled Envelopes\"",
         "Office Supplies",
         "Envelopes"
        ],
        [
         6,
         "#10- 4 1/8\" x 9 1/2\"\" Security-Tint Envelopes\"",
         "Office Supplies",
         "Envelopes"
        ],
        [
         7,
         "#10-4 1/8\" x 9 1/2\"\" Premium Diagonal Seam Envelopes\"",
         "Office Supplies",
         "Envelopes"
        ],
        [
         8,
         "#6 3/4 Gummed Flap White Envelopes",
         "Office Supplies",
         "Envelopes"
        ],
        [
         9,
         "1.7 Cubic Foot Compact \"Cube\"\" Office Refrigerators\"",
         "Office Supplies",
         "Appliances"
        ],
        [
         10,
         "1/4 Fold Party Design Invitations & White Envelopes- 24 8-1/2\" X 11\"\" Cards- 25 Env./Pack\"",
         "Office Supplies",
         "Paper"
        ]
       ],
       "datasetInfos": [],
       "dbfsResultPath": null,
       "isJsonSchema": true,
       "metadata": {},
       "overflow": false,
       "plotOptions": {
        "customPlotOptions": {},
        "displayType": "table",
        "pivotAggregation": null,
        "pivotColumns": null,
        "xColumns": null,
        "yColumns": null
       },
       "removedWidgets": [],
       "schema": [
        {
         "metadata": "{}",
         "name": "product_key",
         "type": "\"integer\""
        },
        {
         "metadata": "{}",
         "name": "product_name",
         "type": "\"string\""
        },
        {
         "metadata": "{}",
         "name": "category",
         "type": "\"string\""
        },
        {
         "metadata": "{}",
         "name": "sub-category",
         "type": "\"string\""
        }
       ],
       "type": "table"
      }
     },
     "output_type": "display_data"
    }
   ],
   "source": [
    "# Select relevant columns from the already loaded Silver DataFrame (df_silver)\n",
    "df_dim_product = df_silver.select(\n",
    "    \"product_key\",\n",
    "    \"product_name\",  # assuming it exists, else remove this line\n",
    "    \"category\",\n",
    "    \"sub-category\"\n",
    ").dropDuplicates([\"product_key\"])  # Get unique products only\n",
    "\n",
    "# Display the resulting dim_product table\n",
    "display(df_dim_product.limit(10))\n"
   ]
  },
  {
   "cell_type": "code",
   "execution_count": 0,
   "metadata": {
    "application/vnd.databricks.v1+cell": {
     "cellMetadata": {
      "byteLimit": 2048000,
      "rowLimit": 10000
     },
     "inputWidgets": {},
     "nuid": "132f26a1-1521-4854-8375-e03cbe5e1645",
     "showTitle": false,
     "tableResultSettingsMap": {},
     "title": ""
    }
   },
   "outputs": [
    {
     "output_type": "stream",
     "name": "stdout",
     "output_type": "stream",
     "text": [
      "Distinct Product Names Count: 3788\nDistinct Product Keys Count: 3788\n"
     ]
    }
   ],
   "source": [
    "# Count distinct product_name and product_key to verify uniqueness and completeness\n",
    "\n",
    "# Count distinct product names\n",
    "product_name_count = df_silver.select(\"product_name\").distinct().count()\n",
    "\n",
    "# Count distinct product keys (product_id)\n",
    "product_key_count = df_silver.select(\"product_key\").distinct().count()\n",
    "\n",
    "# Display the counts side by side\n",
    "print(f\"Distinct Product Names Count: {product_name_count}\")\n",
    "print(f\"Distinct Product Keys Count: {product_key_count}\")\n"
   ]
  },
  {
   "cell_type": "code",
   "execution_count": 0,
   "metadata": {
    "application/vnd.databricks.v1+cell": {
     "cellMetadata": {
      "byteLimit": 2048000,
      "rowLimit": 10000
     },
     "inputWidgets": {},
     "nuid": "9cf7df8d-5ab4-4adb-9066-9dbf9012ac95",
     "showTitle": false,
     "tableResultSettingsMap": {},
     "title": ""
    }
   },
   "outputs": [
    {
     "output_type": "display_data",
     "data": {
      "text/html": [
       "<style scoped>\n",
       "  .table-result-container {\n",
       "    max-height: 300px;\n",
       "    overflow: auto;\n",
       "  }\n",
       "  table, th, td {\n",
       "    border: 1px solid black;\n",
       "    border-collapse: collapse;\n",
       "  }\n",
       "  th, td {\n",
       "    padding: 5px;\n",
       "  }\n",
       "  th {\n",
       "    text-align: left;\n",
       "  }\n",
       "</style><div class='table-result-container'><table class='table-result'><thead style='background-color: white'><tr><th>row_id</th><th>order_id</th><th>order_date</th><th>ship_date</th><th>ship_mode</th><th>customer_id</th><th>segment</th><th>city</th><th>state</th><th>country</th><th>postal_code</th><th>market</th><th>region</th><th>sales</th><th>quantity</th><th>discount</th><th>profit</th><th>shipping_cost</th><th>order_priority</th><th>product_key</th></tr></thead><tbody><tr><td>32298</td><td>CA-2012-124891</td><td>2012-07-31</td><td>2012-07-31</td><td>Same Day</td><td>RH-19495</td><td>Consumer</td><td>New York City</td><td>New York</td><td>United States</td><td>10024</td><td>US</td><td>East</td><td>2309.65</td><td>7</td><td>0.00</td><td>762.18</td><td>933.57</td><td>Critical</td><td>2751</td></tr><tr><td>26341</td><td>IN-2013-77878</td><td>2013-02-05</td><td>2013-02-07</td><td>Second Class</td><td>JR-16210</td><td>Corporate</td><td>Wollongong</td><td>New South Wales</td><td>Australia</td><td>null</td><td>APAC</td><td>Oceania</td><td>3709.40</td><td>9</td><td>0.10</td><td>-288.77</td><td>923.63</td><td>Critical</td><td>2526</td></tr><tr><td>25330</td><td>IN-2013-71249</td><td>2013-10-17</td><td>2013-10-18</td><td>First Class</td><td>CR-12730</td><td>Consumer</td><td>Brisbane</td><td>Queensland</td><td>Australia</td><td>null</td><td>APAC</td><td>Oceania</td><td>5175.17</td><td>9</td><td>0.10</td><td>919.97</td><td>915.49</td><td>Medium</td><td>2503</td></tr><tr><td>13524</td><td>ES-2013-1579342</td><td>2013-01-28</td><td>2013-01-30</td><td>First Class</td><td>KM-16375</td><td>Home Office</td><td>Berlin</td><td>Berlin</td><td>Germany</td><td>null</td><td>EU</td><td>Central</td><td>2892.51</td><td>5</td><td>0.10</td><td>-96.54</td><td>910.16</td><td>Medium</td><td>2415</td></tr><tr><td>47221</td><td>SG-2013-4320</td><td>2013-11-05</td><td>2013-11-06</td><td>Same Day</td><td>RH-9495</td><td>Consumer</td><td>Dakar</td><td>Dakar</td><td>Senegal</td><td>null</td><td>Africa</td><td>Africa</td><td>2832.96</td><td>8</td><td>0.00</td><td>311.52</td><td>903.04</td><td>Critical</td><td>3159</td></tr><tr><td>22732</td><td>IN-2013-42360</td><td>2013-06-28</td><td>2013-07-01</td><td>Second Class</td><td>JM-15655</td><td>Corporate</td><td>Sydney</td><td>New South Wales</td><td>Australia</td><td>null</td><td>APAC</td><td>Oceania</td><td>2862.68</td><td>5</td><td>0.10</td><td>763.28</td><td>897.35</td><td>Critical</td><td>2992</td></tr><tr><td>30570</td><td>IN-2011-81826</td><td>2011-11-07</td><td>2011-11-09</td><td>First Class</td><td>TS-21340</td><td>Consumer</td><td>Porirua</td><td>Wellington</td><td>New Zealand</td><td>null</td><td>APAC</td><td>Oceania</td><td>1822.08</td><td>4</td><td>0.00</td><td>564.84</td><td>894.77</td><td>Critical</td><td>2525</td></tr><tr><td>31192</td><td>IN-2012-86369</td><td>2012-04-14</td><td>2012-04-18</td><td>Standard Class</td><td>MB-18085</td><td>Consumer</td><td>Hamilton</td><td>Waikato</td><td>New Zealand</td><td>null</td><td>APAC</td><td>Oceania</td><td>5244.84</td><td>6</td><td>0.00</td><td>996.48</td><td>878.38</td><td>High</td><td>922</td></tr><tr><td>40155</td><td>CA-2014-135909</td><td>2014-10-14</td><td>2014-10-21</td><td>Standard Class</td><td>JW-15220</td><td>Corporate</td><td>Sacramento</td><td>California</td><td>United States</td><td>95823</td><td>US</td><td>West</td><td>5083.96</td><td>5</td><td>0.20</td><td>1906.49</td><td>867.69</td><td>Low</td><td>1430</td></tr><tr><td>40936</td><td>CA-2012-116638</td><td>2012-01-28</td><td>2012-01-31</td><td>Second Class</td><td>JH-15985</td><td>Consumer</td><td>Concord</td><td>North Carolina</td><td>United States</td><td>28027</td><td>US</td><td>South</td><td>4297.64</td><td>13</td><td>0.40</td><td>-1862.31</td><td>865.74</td><td>Critical</td><td>911</td></tr></tbody></table></div>"
      ]
     },
     "metadata": {
      "application/vnd.databricks.v1+output": {
       "addedWidgets": {},
       "aggData": [],
       "aggError": "",
       "aggOverflow": false,
       "aggSchema": [],
       "aggSeriesLimitReached": false,
       "aggType": "",
       "arguments": {},
       "columnCustomDisplayInfos": {},
       "data": [
        [
         "32298",
         "CA-2012-124891",
         "2012-07-31",
         "2012-07-31",
         "Same Day",
         "RH-19495",
         "Consumer",
         "New York City",
         "New York",
         "United States",
         "10024",
         "US",
         "East",
         "2309.65",
         7,
         "0.00",
         "762.18",
         "933.57",
         "Critical",
         2751
        ],
        [
         "26341",
         "IN-2013-77878",
         "2013-02-05",
         "2013-02-07",
         "Second Class",
         "JR-16210",
         "Corporate",
         "Wollongong",
         "New South Wales",
         "Australia",
         null,
         "APAC",
         "Oceania",
         "3709.40",
         9,
         "0.10",
         "-288.77",
         "923.63",
         "Critical",
         2526
        ],
        [
         "25330",
         "IN-2013-71249",
         "2013-10-17",
         "2013-10-18",
         "First Class",
         "CR-12730",
         "Consumer",
         "Brisbane",
         "Queensland",
         "Australia",
         null,
         "APAC",
         "Oceania",
         "5175.17",
         9,
         "0.10",
         "919.97",
         "915.49",
         "Medium",
         2503
        ],
        [
         "13524",
         "ES-2013-1579342",
         "2013-01-28",
         "2013-01-30",
         "First Class",
         "KM-16375",
         "Home Office",
         "Berlin",
         "Berlin",
         "Germany",
         null,
         "EU",
         "Central",
         "2892.51",
         5,
         "0.10",
         "-96.54",
         "910.16",
         "Medium",
         2415
        ],
        [
         "47221",
         "SG-2013-4320",
         "2013-11-05",
         "2013-11-06",
         "Same Day",
         "RH-9495",
         "Consumer",
         "Dakar",
         "Dakar",
         "Senegal",
         null,
         "Africa",
         "Africa",
         "2832.96",
         8,
         "0.00",
         "311.52",
         "903.04",
         "Critical",
         3159
        ],
        [
         "22732",
         "IN-2013-42360",
         "2013-06-28",
         "2013-07-01",
         "Second Class",
         "JM-15655",
         "Corporate",
         "Sydney",
         "New South Wales",
         "Australia",
         null,
         "APAC",
         "Oceania",
         "2862.68",
         5,
         "0.10",
         "763.28",
         "897.35",
         "Critical",
         2992
        ],
        [
         "30570",
         "IN-2011-81826",
         "2011-11-07",
         "2011-11-09",
         "First Class",
         "TS-21340",
         "Consumer",
         "Porirua",
         "Wellington",
         "New Zealand",
         null,
         "APAC",
         "Oceania",
         "1822.08",
         4,
         "0.00",
         "564.84",
         "894.77",
         "Critical",
         2525
        ],
        [
         "31192",
         "IN-2012-86369",
         "2012-04-14",
         "2012-04-18",
         "Standard Class",
         "MB-18085",
         "Consumer",
         "Hamilton",
         "Waikato",
         "New Zealand",
         null,
         "APAC",
         "Oceania",
         "5244.84",
         6,
         "0.00",
         "996.48",
         "878.38",
         "High",
         922
        ],
        [
         "40155",
         "CA-2014-135909",
         "2014-10-14",
         "2014-10-21",
         "Standard Class",
         "JW-15220",
         "Corporate",
         "Sacramento",
         "California",
         "United States",
         "95823",
         "US",
         "West",
         "5083.96",
         5,
         "0.20",
         "1906.49",
         "867.69",
         "Low",
         1430
        ],
        [
         "40936",
         "CA-2012-116638",
         "2012-01-28",
         "2012-01-31",
         "Second Class",
         "JH-15985",
         "Consumer",
         "Concord",
         "North Carolina",
         "United States",
         "28027",
         "US",
         "South",
         "4297.64",
         13,
         "0.40",
         "-1862.31",
         "865.74",
         "Critical",
         911
        ]
       ],
       "datasetInfos": [],
       "dbfsResultPath": null,
       "isJsonSchema": true,
       "metadata": {},
       "overflow": false,
       "plotOptions": {
        "customPlotOptions": {},
        "displayType": "table",
        "pivotAggregation": null,
        "pivotColumns": null,
        "xColumns": null,
        "yColumns": null
       },
       "removedWidgets": [],
       "schema": [
        {
         "metadata": "{}",
         "name": "row_id",
         "type": "\"string\""
        },
        {
         "metadata": "{}",
         "name": "order_id",
         "type": "\"string\""
        },
        {
         "metadata": "{}",
         "name": "order_date",
         "type": "\"date\""
        },
        {
         "metadata": "{}",
         "name": "ship_date",
         "type": "\"date\""
        },
        {
         "metadata": "{}",
         "name": "ship_mode",
         "type": "\"string\""
        },
        {
         "metadata": "{}",
         "name": "customer_id",
         "type": "\"string\""
        },
        {
         "metadata": "{}",
         "name": "segment",
         "type": "\"string\""
        },
        {
         "metadata": "{}",
         "name": "city",
         "type": "\"string\""
        },
        {
         "metadata": "{}",
         "name": "state",
         "type": "\"string\""
        },
        {
         "metadata": "{}",
         "name": "country",
         "type": "\"string\""
        },
        {
         "metadata": "{}",
         "name": "postal_code",
         "type": "\"string\""
        },
        {
         "metadata": "{}",
         "name": "market",
         "type": "\"string\""
        },
        {
         "metadata": "{}",
         "name": "region",
         "type": "\"string\""
        },
        {
         "metadata": "{}",
         "name": "sales",
         "type": "\"decimal(10,2)\""
        },
        {
         "metadata": "{}",
         "name": "quantity",
         "type": "\"integer\""
        },
        {
         "metadata": "{}",
         "name": "discount",
         "type": "\"decimal(4,2)\""
        },
        {
         "metadata": "{}",
         "name": "profit",
         "type": "\"decimal(10,2)\""
        },
        {
         "metadata": "{}",
         "name": "shipping_cost",
         "type": "\"decimal(10,2)\""
        },
        {
         "metadata": "{}",
         "name": "order_priority",
         "type": "\"string\""
        },
        {
         "metadata": "{}",
         "name": "product_key",
         "type": "\"integer\""
        }
       ],
       "type": "table"
      }
     },
     "output_type": "display_data"
    }
   ],
   "source": [
    "# Select required columns for the fact_sales fact table from df_silver\n",
    "df_fact_sales = df_silver.select(\n",
    "    \"row_id\",\n",
    "    \"order_id\",\n",
    "    \"order_date\",\n",
    "    \"ship_date\",\n",
    "    \"ship_mode\",\n",
    "    \"customer_id\",\n",
    "    \"segment\",\n",
    "    \"city\",\n",
    "    \"state\",\n",
    "    \"country\",\n",
    "    \"postal_code\",\n",
    "    \"market\",\n",
    "    \"region\",\n",
    "    \"sales\",\n",
    "    \"quantity\",\n",
    "    \"discount\",\n",
    "    \"profit\",\n",
    "    \"shipping_cost\",\n",
    "    \"order_priority\",\n",
    "    \"product_key\"\n",
    ")\n",
    "\n",
    "# Display the first 10 rows of the fact_sales DataFrame\n",
    "display(df_fact_sales.limit(10))\n"
   ]
  },
  {
   "cell_type": "code",
   "execution_count": 0,
   "metadata": {
    "application/vnd.databricks.v1+cell": {
     "cellMetadata": {
      "byteLimit": 2048000,
      "rowLimit": 10000
     },
     "inputWidgets": {},
     "nuid": "07851b1e-416f-4fcd-8934-00f3c7090134",
     "showTitle": false,
     "tableResultSettingsMap": {},
     "title": ""
    }
   },
   "outputs": [
    {
     "output_type": "stream",
     "name": "stdout",
     "output_type": "stream",
     "text": [
      "ℹ️ Mount point /mnt/superstore_gold already exists.\n"
     ]
    }
   ],
   "source": [
    "# Databricks notebook source\n",
    "\n",
    "# ================================\n",
    "# Mount Gold container in Databricks\n",
    "# ================================\n",
    "\n",
    "# Problem:\n",
    "# The Gold container is not mounted in DBFS, so writing files to the Gold layer using\n",
    "# mount paths (e.g., /mnt/superstore_gold) fails because the mount point doesn't exist.\n",
    "# Direct ABFSS paths require Spark config keys which might not be set, causing access errors.\n",
    "#\n",
    "# Solution:\n",
    "# Mount the Gold container to a DBFS mount point. This provides a stable, consistent\n",
    "# path (/mnt/superstore_gold) to read/write files without configuring keys every session.\n",
    "# Mount points persist for the workspace and are accessible from all clusters in it.\n",
    "#\n",
    "# Run this block once in your workspace or notebook session. If already mounted, it will error,\n",
    "# so you may want to handle that in production (see note below).\n",
    "\n",
    "try:\n",
    "    dbutils.fs.mount(\n",
    "        source = \"wasbs://gold@sanilayanalytics.blob.core.windows.net\",\n",
    "        mount_point = \"/mnt/superstore_gold\",\n",
    "        extra_configs = {\n",
    "            \"fs.azure.account.key.sanilayanalytics.blob.core.windows.net\": \"STORAGEKEY\"\n",
    "        }\n",
    "    )\n",
    "    print(\"✅ Successfully mounted /mnt/superstore_gold\")\n",
    "except Exception as e:\n",
    "    if \"Directory already mounted\" in str(e):\n",
    "        print(\"ℹ️ Mount point /mnt/superstore_gold already exists.\")\n",
    "    else:\n",
    "        print(\"❌ Mounting failed with error:\", e)\n",
    "\n"
   ]
  },
  {
   "cell_type": "code",
   "execution_count": 0,
   "metadata": {
    "application/vnd.databricks.v1+cell": {
     "cellMetadata": {
      "byteLimit": 2048000,
      "rowLimit": 10000
     },
     "inputWidgets": {},
     "nuid": "3ef0e305-0854-41a6-b603-78967a357dfc",
     "showTitle": false,
     "tableResultSettingsMap": {},
     "title": ""
    }
   },
   "outputs": [
    {
     "output_type": "stream",
     "name": "stdout",
     "output_type": "stream",
     "text": [
      "✅ dim_customer successfully saved to Gold layer.\n✅ dim_product successfully saved to Gold layer.\n✅ fact_sales successfully saved to Gold layer.\n"
     ]
    }
   ],
   "source": [
    "# -----------------------------------\n",
    "# Define Gold layer mount path and subfolders for each dimension/fact table\n",
    "gold_mount_path = \"/mnt/superstore_gold/\"\n",
    "\n",
    "dim_customer_path = gold_mount_path + \"dim_customer\"\n",
    "dim_product_path = gold_mount_path + \"dim_product\"\n",
    "fact_sales_path = gold_mount_path + \"fact_sales\"\n",
    "\n",
    "# -----------------------------------\n",
    "# Save dim_customer table as Parquet in Gold layer (read from Spark SQL table)\n",
    "df_dim_customer = spark.table(\"dim_customer\")\n",
    "df_dim_customer.write.mode(\"overwrite\").parquet(dim_customer_path)\n",
    "print(\"✅ dim_customer successfully saved to Gold layer.\")\n",
    "\n",
    "# Save df_dim_product DataFrame as Parquet in Gold layer\n",
    "df_dim_product.write.mode(\"overwrite\").parquet(dim_product_path)\n",
    "print(\"✅ dim_product successfully saved to Gold layer.\")\n",
    "\n",
    "# Save df_fact_sales DataFrame as Parquet in Gold layer\n",
    "df_fact_sales.write.mode(\"overwrite\").parquet(fact_sales_path)\n",
    "print(\"✅ fact_sales successfully saved to Gold layer.\")\n"
   ]
  },
  {
   "cell_type": "code",
   "execution_count": 0,
   "metadata": {
    "application/vnd.databricks.v1+cell": {
     "cellMetadata": {
      "byteLimit": 2048000,
      "rowLimit": 10000
     },
     "inputWidgets": {},
     "nuid": "5de559b1-da35-4353-a397-bb9506710ba9",
     "showTitle": false,
     "tableResultSettingsMap": {},
     "title": ""
    }
   },
   "outputs": [
    {
     "output_type": "stream",
     "name": "stdout",
     "output_type": "stream",
     "text": [
      "Preview dim_customer:\n"
     ]
    },
    {
     "output_type": "display_data",
     "data": {
      "text/html": [
       "<style scoped>\n",
       "  .table-result-container {\n",
       "    max-height: 300px;\n",
       "    overflow: auto;\n",
       "  }\n",
       "  table, th, td {\n",
       "    border: 1px solid black;\n",
       "    border-collapse: collapse;\n",
       "  }\n",
       "  th, td {\n",
       "    padding: 5px;\n",
       "  }\n",
       "  th {\n",
       "    text-align: left;\n",
       "  }\n",
       "</style><div class='table-result-container'><table class='table-result'><thead style='background-color: white'><tr><th>customer_id</th><th>customer_name</th><th>max_date</th><th>recency</th><th>frequency</th><th>monetary</th><th>r_score</th><th>f_score</th><th>m_score</th><th>rfm</th><th>rfm_score</th></tr></thead><tbody><tr><td>KD-6270</td><td>Karen Daniels</td><td>2012-10-11</td><td>811</td><td>2</td><td>-1023.54</td><td>1</td><td>1</td><td>1</td><td>3</td><td>1</td></tr><tr><td>CG-2040</td><td>Catherine Glotzbach</td><td>2013-12-18</td><td>378</td><td>7</td><td>-395.91</td><td>1</td><td>1</td><td>1</td><td>3</td><td>1</td></tr><tr><td>DB-3120</td><td>David Bremer</td><td>2014-01-07</td><td>358</td><td>6</td><td>-242.12</td><td>1</td><td>1</td><td>1</td><td>3</td><td>1</td></tr></tbody></table></div>"
      ]
     },
     "metadata": {
      "application/vnd.databricks.v1+output": {
       "addedWidgets": {},
       "aggData": [],
       "aggError": "",
       "aggOverflow": false,
       "aggSchema": [],
       "aggSeriesLimitReached": false,
       "aggType": "",
       "arguments": {},
       "columnCustomDisplayInfos": {},
       "data": [
        [
         "KD-6270",
         "Karen Daniels",
         "2012-10-11",
         811,
         2,
         "-1023.54",
         1,
         1,
         1,
         3,
         1
        ],
        [
         "CG-2040",
         "Catherine Glotzbach",
         "2013-12-18",
         378,
         7,
         "-395.91",
         1,
         1,
         1,
         3,
         1
        ],
        [
         "DB-3120",
         "David Bremer",
         "2014-01-07",
         358,
         6,
         "-242.12",
         1,
         1,
         1,
         3,
         1
        ]
       ],
       "datasetInfos": [],
       "dbfsResultPath": null,
       "isJsonSchema": true,
       "metadata": {},
       "overflow": false,
       "plotOptions": {
        "customPlotOptions": {},
        "displayType": "table",
        "pivotAggregation": null,
        "pivotColumns": null,
        "xColumns": null,
        "yColumns": null
       },
       "removedWidgets": [],
       "schema": [
        {
         "metadata": "{}",
         "name": "customer_id",
         "type": "\"string\""
        },
        {
         "metadata": "{}",
         "name": "customer_name",
         "type": "\"string\""
        },
        {
         "metadata": "{}",
         "name": "max_date",
         "type": "\"date\""
        },
        {
         "metadata": "{}",
         "name": "recency",
         "type": "\"long\""
        },
        {
         "metadata": "{}",
         "name": "frequency",
         "type": "\"long\""
        },
        {
         "metadata": "{}",
         "name": "monetary",
         "type": "\"decimal(20,2)\""
        },
        {
         "metadata": "{}",
         "name": "r_score",
         "type": "\"integer\""
        },
        {
         "metadata": "{}",
         "name": "f_score",
         "type": "\"integer\""
        },
        {
         "metadata": "{}",
         "name": "m_score",
         "type": "\"integer\""
        },
        {
         "metadata": "{}",
         "name": "rfm",
         "type": "\"integer\""
        },
        {
         "metadata": "{}",
         "name": "rfm_score",
         "type": "\"integer\""
        }
       ],
       "type": "table"
      }
     },
     "output_type": "display_data"
    },
    {
     "output_type": "stream",
     "name": "stdout",
     "output_type": "stream",
     "text": [
      "Preview dim_product:\n"
     ]
    },
    {
     "output_type": "display_data",
     "data": {
      "text/html": [
       "<style scoped>\n",
       "  .table-result-container {\n",
       "    max-height: 300px;\n",
       "    overflow: auto;\n",
       "  }\n",
       "  table, th, td {\n",
       "    border: 1px solid black;\n",
       "    border-collapse: collapse;\n",
       "  }\n",
       "  th, td {\n",
       "    padding: 5px;\n",
       "  }\n",
       "  th {\n",
       "    text-align: left;\n",
       "  }\n",
       "</style><div class='table-result-container'><table class='table-result'><thead style='background-color: white'><tr><th>product_key</th><th>product_name</th><th>category</th><th>sub-category</th></tr></thead><tbody><tr><td>1</td><td>\"While you Were Out\"\" Message Book- One Form per Page\"</td><td>Office Supplies</td><td>Paper</td></tr><tr><td>2</td><td>#10 Gummed Flap White Envelopes- 100/Box</td><td>Office Supplies</td><td>Envelopes</td></tr><tr><td>3</td><td>#10 Self-Seal White Envelopes</td><td>Office Supplies</td><td>Envelopes</td></tr></tbody></table></div>"
      ]
     },
     "metadata": {
      "application/vnd.databricks.v1+output": {
       "addedWidgets": {},
       "aggData": [],
       "aggError": "",
       "aggOverflow": false,
       "aggSchema": [],
       "aggSeriesLimitReached": false,
       "aggType": "",
       "arguments": {},
       "columnCustomDisplayInfos": {},
       "data": [
        [
         1,
         "\"While you Were Out\"\" Message Book- One Form per Page\"",
         "Office Supplies",
         "Paper"
        ],
        [
         2,
         "#10 Gummed Flap White Envelopes- 100/Box",
         "Office Supplies",
         "Envelopes"
        ],
        [
         3,
         "#10 Self-Seal White Envelopes",
         "Office Supplies",
         "Envelopes"
        ]
       ],
       "datasetInfos": [],
       "dbfsResultPath": null,
       "isJsonSchema": true,
       "metadata": {},
       "overflow": false,
       "plotOptions": {
        "customPlotOptions": {},
        "displayType": "table",
        "pivotAggregation": null,
        "pivotColumns": null,
        "xColumns": null,
        "yColumns": null
       },
       "removedWidgets": [],
       "schema": [
        {
         "metadata": "{}",
         "name": "product_key",
         "type": "\"integer\""
        },
        {
         "metadata": "{}",
         "name": "product_name",
         "type": "\"string\""
        },
        {
         "metadata": "{}",
         "name": "category",
         "type": "\"string\""
        },
        {
         "metadata": "{}",
         "name": "sub-category",
         "type": "\"string\""
        }
       ],
       "type": "table"
      }
     },
     "output_type": "display_data"
    },
    {
     "output_type": "stream",
     "name": "stdout",
     "output_type": "stream",
     "text": [
      "Preview fact_sales:\n"
     ]
    },
    {
     "output_type": "display_data",
     "data": {
      "text/html": [
       "<style scoped>\n",
       "  .table-result-container {\n",
       "    max-height: 300px;\n",
       "    overflow: auto;\n",
       "  }\n",
       "  table, th, td {\n",
       "    border: 1px solid black;\n",
       "    border-collapse: collapse;\n",
       "  }\n",
       "  th, td {\n",
       "    padding: 5px;\n",
       "  }\n",
       "  th {\n",
       "    text-align: left;\n",
       "  }\n",
       "</style><div class='table-result-container'><table class='table-result'><thead style='background-color: white'><tr><th>row_id</th><th>order_id</th><th>order_date</th><th>ship_date</th><th>ship_mode</th><th>customer_id</th><th>segment</th><th>city</th><th>state</th><th>country</th><th>postal_code</th><th>market</th><th>region</th><th>sales</th><th>quantity</th><th>discount</th><th>profit</th><th>shipping_cost</th><th>order_priority</th><th>product_key</th></tr></thead><tbody><tr><td>32298</td><td>CA-2012-124891</td><td>2012-07-31</td><td>2012-07-31</td><td>Same Day</td><td>RH-19495</td><td>Consumer</td><td>New York City</td><td>New York</td><td>United States</td><td>10024</td><td>US</td><td>East</td><td>2309.65</td><td>7</td><td>0.00</td><td>762.18</td><td>933.57</td><td>Critical</td><td>2751</td></tr><tr><td>26341</td><td>IN-2013-77878</td><td>2013-02-05</td><td>2013-02-07</td><td>Second Class</td><td>JR-16210</td><td>Corporate</td><td>Wollongong</td><td>New South Wales</td><td>Australia</td><td>null</td><td>APAC</td><td>Oceania</td><td>3709.40</td><td>9</td><td>0.10</td><td>-288.77</td><td>923.63</td><td>Critical</td><td>2526</td></tr><tr><td>25330</td><td>IN-2013-71249</td><td>2013-10-17</td><td>2013-10-18</td><td>First Class</td><td>CR-12730</td><td>Consumer</td><td>Brisbane</td><td>Queensland</td><td>Australia</td><td>null</td><td>APAC</td><td>Oceania</td><td>5175.17</td><td>9</td><td>0.10</td><td>919.97</td><td>915.49</td><td>Medium</td><td>2503</td></tr></tbody></table></div>"
      ]
     },
     "metadata": {
      "application/vnd.databricks.v1+output": {
       "addedWidgets": {},
       "aggData": [],
       "aggError": "",
       "aggOverflow": false,
       "aggSchema": [],
       "aggSeriesLimitReached": false,
       "aggType": "",
       "arguments": {},
       "columnCustomDisplayInfos": {},
       "data": [
        [
         "32298",
         "CA-2012-124891",
         "2012-07-31",
         "2012-07-31",
         "Same Day",
         "RH-19495",
         "Consumer",
         "New York City",
         "New York",
         "United States",
         "10024",
         "US",
         "East",
         "2309.65",
         7,
         "0.00",
         "762.18",
         "933.57",
         "Critical",
         2751
        ],
        [
         "26341",
         "IN-2013-77878",
         "2013-02-05",
         "2013-02-07",
         "Second Class",
         "JR-16210",
         "Corporate",
         "Wollongong",
         "New South Wales",
         "Australia",
         null,
         "APAC",
         "Oceania",
         "3709.40",
         9,
         "0.10",
         "-288.77",
         "923.63",
         "Critical",
         2526
        ],
        [
         "25330",
         "IN-2013-71249",
         "2013-10-17",
         "2013-10-18",
         "First Class",
         "CR-12730",
         "Consumer",
         "Brisbane",
         "Queensland",
         "Australia",
         null,
         "APAC",
         "Oceania",
         "5175.17",
         9,
         "0.10",
         "919.97",
         "915.49",
         "Medium",
         2503
        ]
       ],
       "datasetInfos": [],
       "dbfsResultPath": null,
       "isJsonSchema": true,
       "metadata": {},
       "overflow": false,
       "plotOptions": {
        "customPlotOptions": {},
        "displayType": "table",
        "pivotAggregation": null,
        "pivotColumns": null,
        "xColumns": null,
        "yColumns": null
       },
       "removedWidgets": [],
       "schema": [
        {
         "metadata": "{}",
         "name": "row_id",
         "type": "\"string\""
        },
        {
         "metadata": "{}",
         "name": "order_id",
         "type": "\"string\""
        },
        {
         "metadata": "{}",
         "name": "order_date",
         "type": "\"date\""
        },
        {
         "metadata": "{}",
         "name": "ship_date",
         "type": "\"date\""
        },
        {
         "metadata": "{}",
         "name": "ship_mode",
         "type": "\"string\""
        },
        {
         "metadata": "{}",
         "name": "customer_id",
         "type": "\"string\""
        },
        {
         "metadata": "{}",
         "name": "segment",
         "type": "\"string\""
        },
        {
         "metadata": "{}",
         "name": "city",
         "type": "\"string\""
        },
        {
         "metadata": "{}",
         "name": "state",
         "type": "\"string\""
        },
        {
         "metadata": "{}",
         "name": "country",
         "type": "\"string\""
        },
        {
         "metadata": "{}",
         "name": "postal_code",
         "type": "\"string\""
        },
        {
         "metadata": "{}",
         "name": "market",
         "type": "\"string\""
        },
        {
         "metadata": "{}",
         "name": "region",
         "type": "\"string\""
        },
        {
         "metadata": "{}",
         "name": "sales",
         "type": "\"decimal(10,2)\""
        },
        {
         "metadata": "{}",
         "name": "quantity",
         "type": "\"integer\""
        },
        {
         "metadata": "{}",
         "name": "discount",
         "type": "\"decimal(4,2)\""
        },
        {
         "metadata": "{}",
         "name": "profit",
         "type": "\"decimal(10,2)\""
        },
        {
         "metadata": "{}",
         "name": "shipping_cost",
         "type": "\"decimal(10,2)\""
        },
        {
         "metadata": "{}",
         "name": "order_priority",
         "type": "\"string\""
        },
        {
         "metadata": "{}",
         "name": "product_key",
         "type": "\"integer\""
        }
       ],
       "type": "table"
      }
     },
     "output_type": "display_data"
    }
   ],
   "source": [
    "# Verify by reading back a few rows from Gold layer Parquet files\n",
    "\n",
    "print(\"Preview dim_customer:\")\n",
    "display(spark.read.parquet(dim_customer_path).limit(3))\n",
    "\n",
    "print(\"Preview dim_product:\")\n",
    "display(spark.read.parquet(dim_product_path).limit(3))\n",
    "\n",
    "print(\"Preview fact_sales:\")\n",
    "display(spark.read.parquet(fact_sales_path).limit(3))"
   ]
  }
 ],
 "metadata": {
  "application/vnd.databricks.v1+notebook": {
   "computePreferences": null,
   "dashboards": [],
   "environmentMetadata": {
    "base_environment": "",
    "environment_version": "1"
   },
   "inputWidgetPreferences": null,
   "language": "python",
   "notebookMetadata": {
    "mostRecentlyExecutedCommandWithImplicitDF": {
     "commandId": 2321993737300123,
     "dataframes": [
      "_sqldf"
     ]
    },
    "pythonIndentUnit": 4
   },
   "notebookName": "SuperStoreGold",
   "widgets": {}
  }
 },
 "nbformat": 4,
 "nbformat_minor": 0
}