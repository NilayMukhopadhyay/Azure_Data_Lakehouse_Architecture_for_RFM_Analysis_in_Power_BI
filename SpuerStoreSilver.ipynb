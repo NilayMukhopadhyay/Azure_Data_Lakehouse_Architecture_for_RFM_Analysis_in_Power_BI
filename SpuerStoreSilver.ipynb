{
 "cells": [
  {
   "cell_type": "code",
   "execution_count": 0,
   "metadata": {
    "application/vnd.databricks.v1+cell": {
     "cellMetadata": {
      "byteLimit": 2048000,
      "rowLimit": 10000
     },
     "inputWidgets": {},
     "nuid": "10bf0a83-7e59-4765-b148-e48e101f08b0",
     "showTitle": false,
     "tableResultSettingsMap": {},
     "title": ""
    }
   },
   "outputs": [
    {
     "output_type": "stream",
     "name": "stdout",
     "output_type": "stream",
     "text": [
      "Out[7]: True"
     ]
    }
   ],
   "source": [
    "# Databricks notebook source\n",
    "dbutils.fs.mount(\n",
    "  source = \"wasbs://bronze@sanilayanalytics.blob.core.windows.net\",\n",
    "  mount_point = \"/mnt/superstore\",\n",
    "  extra_configs = {\"fs.azure.account.key.sanilayanalytics.blob.core.windows.net\":\"STORAGEKEY\"})\n"
   ]
  },
  {
   "cell_type": "code",
   "execution_count": 0,
   "metadata": {
    "application/vnd.databricks.v1+cell": {
     "cellMetadata": {
      "byteLimit": 2048000,
      "rowLimit": 10000
     },
     "inputWidgets": {},
     "nuid": "123088b1-6617-45a1-81ed-635a1fc5b422",
     "showTitle": false,
     "tableResultSettingsMap": {},
     "title": ""
    }
   },
   "outputs": [
    {
     "output_type": "stream",
     "name": "stdout",
     "output_type": "stream",
     "text": [
      "Out[9]: [FileInfo(path='dbfs:/mnt/superstore/global_superstore_data.parquet', name='global_superstore_data.parquet', size=5264489, modificationTime=1754579932000)]"
     ]
    }
   ],
   "source": [
    "\n",
    "dbutils.fs.ls(\"/mnt/superstore/\")"
   ]
  },
  {
   "cell_type": "code",
   "execution_count": 0,
   "metadata": {
    "application/vnd.databricks.v1+cell": {
     "cellMetadata": {
      "byteLimit": 2048000,
      "rowLimit": 10000
     },
     "inputWidgets": {},
     "nuid": "2ae9c5a8-f97a-42cc-9f29-3cfbede26a61",
     "showTitle": false,
     "tableResultSettingsMap": {},
     "title": ""
    }
   },
   "outputs": [
    {
     "output_type": "stream",
     "name": "stdout",
     "output_type": "stream",
     "text": [
      "root\n |-- row_id: string (nullable = true)\n |-- order_id: string (nullable = true)\n |-- order_date: string (nullable = true)\n |-- ship_date: string (nullable = true)\n |-- ship_mode: string (nullable = true)\n |-- customer_id: string (nullable = true)\n |-- customer_name: string (nullable = true)\n |-- segment: string (nullable = true)\n |-- city: string (nullable = true)\n |-- state: string (nullable = true)\n |-- country: string (nullable = true)\n |-- postal_code: string (nullable = true)\n |-- market: string (nullable = true)\n |-- region: string (nullable = true)\n |-- product_id: string (nullable = true)\n |-- category: string (nullable = true)\n |-- sub-category: string (nullable = true)\n |-- product_name: string (nullable = true)\n |-- sales: string (nullable = true)\n |-- quantity: string (nullable = true)\n |-- discount: string (nullable = true)\n |-- profit: string (nullable = true)\n |-- shipping_cost: string (nullable = true)\n |-- order_priority: string (nullable = true)\n\n"
     ]
    }
   ],
   "source": [
    "# Read raw data from bronze layer\n",
    "df = spark.read.parquet(\"/mnt/superstore/global_superstore_data.parquet\")\n",
    "df.printSchema()\n",
    "\n",
    "\n"
   ]
  },
  {
   "cell_type": "code",
   "execution_count": 0,
   "metadata": {
    "application/vnd.databricks.v1+cell": {
     "cellMetadata": {
      "byteLimit": 2048000,
      "rowLimit": 10000
     },
     "inputWidgets": {},
     "nuid": "b20d5ab6-f113-43d4-8754-d23b54866144",
     "showTitle": false,
     "tableResultSettingsMap": {},
     "title": ""
    }
   },
   "outputs": [
    {
     "output_type": "stream",
     "name": "stdout",
     "output_type": "stream",
     "text": [
      "root\n |-- row_id: string (nullable = true)\n |-- order_id: string (nullable = true)\n |-- order_date: date (nullable = true)\n |-- ship_date: date (nullable = true)\n |-- ship_mode: string (nullable = true)\n |-- customer_id: string (nullable = true)\n |-- customer_name: string (nullable = true)\n |-- segment: string (nullable = true)\n |-- city: string (nullable = true)\n |-- state: string (nullable = true)\n |-- country: string (nullable = true)\n |-- postal_code: string (nullable = true)\n |-- market: string (nullable = true)\n |-- region: string (nullable = true)\n |-- product_id: string (nullable = true)\n |-- category: string (nullable = true)\n |-- sub-category: string (nullable = true)\n |-- product_name: string (nullable = true)\n |-- sales: decimal(10,2) (nullable = true)\n |-- quantity: integer (nullable = true)\n |-- discount: decimal(4,2) (nullable = true)\n |-- profit: decimal(10,2) (nullable = true)\n |-- shipping_cost: decimal(10,2) (nullable = true)\n |-- order_priority: string (nullable = true)\n\n"
     ]
    }
   ],
   "source": [
    "# Import necessary functions for string manipulation, date conversion, and type casting\n",
    "from pyspark.sql.functions import col, trim, regexp_replace, substring_index, to_date\n",
    "from pyspark.sql.types import DecimalType, IntegerType\n",
    "\n",
    "# Data cleaning and type normalization\n",
    "df_cleaned = (\n",
    "    df\n",
    "    # 1️⃣ Remove extra spaces from 'order_date' and 'ship_date'\n",
    "    .withColumn(\"order_date\", trim(regexp_replace(col(\"order_date\"), \" +\", \" \")))\n",
    "    .withColumn(\"ship_date\", trim(regexp_replace(col(\"ship_date\"), \" +\", \" \")))\n",
    "\n",
    "    # 2️⃣ Keep only the first part of the date string (before any space)\n",
    "    .withColumn(\"order_date\", substring_index(col(\"order_date\"), \" \", 1))\n",
    "    .withColumn(\"ship_date\", substring_index(col(\"ship_date\"), \" \", 1))\n",
    "\n",
    "    # 3️⃣ Convert string columns to actual DateType with the format 'dd-MM-yyyy'\n",
    "    .withColumn(\"order_date\", to_date(col(\"order_date\"), \"dd-MM-yyyy\"))\n",
    "    .withColumn(\"ship_date\", to_date(col(\"ship_date\"), \"dd-MM-yyyy\"))\n",
    "\n",
    "    # 4️⃣ Cast numeric columns to appropriate numeric types\n",
    "    .withColumn(\"sales\", col(\"sales\").cast(DecimalType(10, 2)))       # Up to 10 digits, 2 decimal places\n",
    "    .withColumn(\"quantity\", col(\"quantity\").cast(IntegerType()))      # Whole numbers only\n",
    "    .withColumn(\"discount\", col(\"discount\").cast(DecimalType(4, 2)))  # Max 99.99\n",
    "    .withColumn(\"profit\", col(\"profit\").cast(DecimalType(10, 2)))     # Up to 10 digits, 2 decimal places\n",
    "    .withColumn(\"shipping_cost\", col(\"shipping_cost\").cast(DecimalType(10, 2)))  # Shipping cost as decimal\n",
    ")\n",
    "\n",
    "# Print schema to confirm data types after cleaning\n",
    "df_cleaned.printSchema()\n",
    "\n"
   ]
  },
  {
   "cell_type": "code",
   "execution_count": 0,
   "metadata": {
    "application/vnd.databricks.v1+cell": {
     "cellMetadata": {
      "byteLimit": 2048000,
      "rowLimit": 10000
     },
     "inputWidgets": {},
     "nuid": "c26152e7-6942-4fc7-a554-5f4c3e5adc74",
     "showTitle": false,
     "tableResultSettingsMap": {},
     "title": ""
    }
   },
   "outputs": [
    {
     "output_type": "display_data",
     "data": {
      "text/html": [
       "<style scoped>\n",
       "  .table-result-container {\n",
       "    max-height: 300px;\n",
       "    overflow: auto;\n",
       "  }\n",
       "  table, th, td {\n",
       "    border: 1px solid black;\n",
       "    border-collapse: collapse;\n",
       "  }\n",
       "  th, td {\n",
       "    padding: 5px;\n",
       "  }\n",
       "  th {\n",
       "    text-align: left;\n",
       "  }\n",
       "</style><div class='table-result-container'><table class='table-result'><thead style='background-color: white'><tr><th>row_id</th><th>order_id</th><th>order_date</th><th>ship_date</th><th>ship_mode</th><th>customer_id</th><th>customer_name</th><th>segment</th><th>city</th><th>state</th><th>country</th><th>postal_code</th><th>market</th><th>region</th><th>product_id</th><th>category</th><th>sub-category</th><th>product_name</th><th>sales</th><th>quantity</th><th>discount</th><th>profit</th><th>shipping_cost</th><th>order_priority</th></tr></thead><tbody><tr><td>32298</td><td>CA-2012-124891</td><td>2012-07-31</td><td>2012-07-31</td><td>Same Day</td><td>RH-19495</td><td>Rick Hansen</td><td>Consumer</td><td>New York City</td><td>New York</td><td>United States</td><td>10024</td><td>US</td><td>East</td><td>TEC-AC-10003033</td><td>Technology</td><td>Accessories</td><td>Plantronics CS510 - Over-the-Head monaural Wireless Headset System</td><td>2309.65</td><td>7</td><td>0.00</td><td>762.18</td><td>933.57</td><td>Critical</td></tr><tr><td>26341</td><td>IN-2013-77878</td><td>2013-02-05</td><td>2013-02-07</td><td>Second Class</td><td>JR-16210</td><td>Justin Ritter</td><td>Corporate</td><td>Wollongong</td><td>New South Wales</td><td>Australia</td><td>null</td><td>APAC</td><td>Oceania</td><td>FUR-CH-10003950</td><td>Furniture</td><td>Chairs</td><td>Novimex Executive Leather Armchair- Black</td><td>3709.40</td><td>9</td><td>0.10</td><td>-288.77</td><td>923.63</td><td>Critical</td></tr><tr><td>25330</td><td>IN-2013-71249</td><td>2013-10-17</td><td>2013-10-18</td><td>First Class</td><td>CR-12730</td><td>Craig Reiter</td><td>Consumer</td><td>Brisbane</td><td>Queensland</td><td>Australia</td><td>null</td><td>APAC</td><td>Oceania</td><td>TEC-PH-10004664</td><td>Technology</td><td>Phones</td><td>Nokia Smart Phone- with Caller ID</td><td>5175.17</td><td>9</td><td>0.10</td><td>919.97</td><td>915.49</td><td>Medium</td></tr><tr><td>13524</td><td>ES-2013-1579342</td><td>2013-01-28</td><td>2013-01-30</td><td>First Class</td><td>KM-16375</td><td>Katherine Murray</td><td>Home Office</td><td>Berlin</td><td>Berlin</td><td>Germany</td><td>null</td><td>EU</td><td>Central</td><td>TEC-PH-10004583</td><td>Technology</td><td>Phones</td><td>Motorola Smart Phone- Cordless</td><td>2892.51</td><td>5</td><td>0.10</td><td>-96.54</td><td>910.16</td><td>Medium</td></tr><tr><td>47221</td><td>SG-2013-4320</td><td>2013-11-05</td><td>2013-11-06</td><td>Same Day</td><td>RH-9495</td><td>Rick Hansen</td><td>Consumer</td><td>Dakar</td><td>Dakar</td><td>Senegal</td><td>null</td><td>Africa</td><td>Africa</td><td>TEC-SHA-10000501</td><td>Technology</td><td>Copiers</td><td>Sharp Wireless Fax- High-Speed</td><td>2832.96</td><td>8</td><td>0.00</td><td>311.52</td><td>903.04</td><td>Critical</td></tr><tr><td>22732</td><td>IN-2013-42360</td><td>2013-06-28</td><td>2013-07-01</td><td>Second Class</td><td>JM-15655</td><td>Jim Mitchum</td><td>Corporate</td><td>Sydney</td><td>New South Wales</td><td>Australia</td><td>null</td><td>APAC</td><td>Oceania</td><td>TEC-PH-10000030</td><td>Technology</td><td>Phones</td><td>Samsung Smart Phone- with Caller ID</td><td>2862.68</td><td>5</td><td>0.10</td><td>763.28</td><td>897.35</td><td>Critical</td></tr><tr><td>30570</td><td>IN-2011-81826</td><td>2011-11-07</td><td>2011-11-09</td><td>First Class</td><td>TS-21340</td><td>Toby Swindell</td><td>Consumer</td><td>Porirua</td><td>Wellington</td><td>New Zealand</td><td>null</td><td>APAC</td><td>Oceania</td><td>FUR-CH-10004050</td><td>Furniture</td><td>Chairs</td><td>Novimex Executive Leather Armchair- Adjustable</td><td>1822.08</td><td>4</td><td>0.00</td><td>564.84</td><td>894.77</td><td>Critical</td></tr><tr><td>31192</td><td>IN-2012-86369</td><td>2012-04-14</td><td>2012-04-18</td><td>Standard Class</td><td>MB-18085</td><td>Mick Brown</td><td>Consumer</td><td>Hamilton</td><td>Waikato</td><td>New Zealand</td><td>null</td><td>APAC</td><td>Oceania</td><td>FUR-TA-10002958</td><td>Furniture</td><td>Tables</td><td>Chromcraft Conference Table- Fully Assembled</td><td>5244.84</td><td>6</td><td>0.00</td><td>996.48</td><td>878.38</td><td>High</td></tr><tr><td>40155</td><td>CA-2014-135909</td><td>2014-10-14</td><td>2014-10-21</td><td>Standard Class</td><td>JW-15220</td><td>Jane Waco</td><td>Corporate</td><td>Sacramento</td><td>California</td><td>United States</td><td>95823</td><td>US</td><td>West</td><td>OFF-BI-10003527</td><td>Office Supplies</td><td>Binders</td><td>Fellowes PB500 Electric Punch Plastic Comb Binding Machine with Manual Bind</td><td>5083.96</td><td>5</td><td>0.20</td><td>1906.49</td><td>867.69</td><td>Low</td></tr><tr><td>40936</td><td>CA-2012-116638</td><td>2012-01-28</td><td>2012-01-31</td><td>Second Class</td><td>JH-15985</td><td>Joseph Holt</td><td>Consumer</td><td>Concord</td><td>North Carolina</td><td>United States</td><td>28027</td><td>US</td><td>South</td><td>FUR-TA-10000198</td><td>Furniture</td><td>Tables</td><td>Chromcraft Bull-Nose Wood Oval Conference Tables & Bases</td><td>4297.64</td><td>13</td><td>0.40</td><td>-1862.31</td><td>865.74</td><td>Critical</td></tr></tbody></table></div>"
      ]
     },
     "metadata": {
      "application/vnd.databricks.v1+output": {
       "addedWidgets": {},
       "aggData": [],
       "aggError": "",
       "aggOverflow": false,
       "aggSchema": [],
       "aggSeriesLimitReached": false,
       "aggType": "",
       "arguments": {},
       "columnCustomDisplayInfos": {},
       "data": [
        [
         "32298",
         "CA-2012-124891",
         "2012-07-31",
         "2012-07-31",
         "Same Day",
         "RH-19495",
         "Rick Hansen",
         "Consumer",
         "New York City",
         "New York",
         "United States",
         "10024",
         "US",
         "East",
         "TEC-AC-10003033",
         "Technology",
         "Accessories",
         "Plantronics CS510 - Over-the-Head monaural Wireless Headset System",
         "2309.65",
         7,
         "0.00",
         "762.18",
         "933.57",
         "Critical"
        ],
        [
         "26341",
         "IN-2013-77878",
         "2013-02-05",
         "2013-02-07",
         "Second Class",
         "JR-16210",
         "Justin Ritter",
         "Corporate",
         "Wollongong",
         "New South Wales",
         "Australia",
         null,
         "APAC",
         "Oceania",
         "FUR-CH-10003950",
         "Furniture",
         "Chairs",
         "Novimex Executive Leather Armchair- Black",
         "3709.40",
         9,
         "0.10",
         "-288.77",
         "923.63",
         "Critical"
        ],
        [
         "25330",
         "IN-2013-71249",
         "2013-10-17",
         "2013-10-18",
         "First Class",
         "CR-12730",
         "Craig Reiter",
         "Consumer",
         "Brisbane",
         "Queensland",
         "Australia",
         null,
         "APAC",
         "Oceania",
         "TEC-PH-10004664",
         "Technology",
         "Phones",
         "Nokia Smart Phone- with Caller ID",
         "5175.17",
         9,
         "0.10",
         "919.97",
         "915.49",
         "Medium"
        ],
        [
         "13524",
         "ES-2013-1579342",
         "2013-01-28",
         "2013-01-30",
         "First Class",
         "KM-16375",
         "Katherine Murray",
         "Home Office",
         "Berlin",
         "Berlin",
         "Germany",
         null,
         "EU",
         "Central",
         "TEC-PH-10004583",
         "Technology",
         "Phones",
         "Motorola Smart Phone- Cordless",
         "2892.51",
         5,
         "0.10",
         "-96.54",
         "910.16",
         "Medium"
        ],
        [
         "47221",
         "SG-2013-4320",
         "2013-11-05",
         "2013-11-06",
         "Same Day",
         "RH-9495",
         "Rick Hansen",
         "Consumer",
         "Dakar",
         "Dakar",
         "Senegal",
         null,
         "Africa",
         "Africa",
         "TEC-SHA-10000501",
         "Technology",
         "Copiers",
         "Sharp Wireless Fax- High-Speed",
         "2832.96",
         8,
         "0.00",
         "311.52",
         "903.04",
         "Critical"
        ],
        [
         "22732",
         "IN-2013-42360",
         "2013-06-28",
         "2013-07-01",
         "Second Class",
         "JM-15655",
         "Jim Mitchum",
         "Corporate",
         "Sydney",
         "New South Wales",
         "Australia",
         null,
         "APAC",
         "Oceania",
         "TEC-PH-10000030",
         "Technology",
         "Phones",
         "Samsung Smart Phone- with Caller ID",
         "2862.68",
         5,
         "0.10",
         "763.28",
         "897.35",
         "Critical"
        ],
        [
         "30570",
         "IN-2011-81826",
         "2011-11-07",
         "2011-11-09",
         "First Class",
         "TS-21340",
         "Toby Swindell",
         "Consumer",
         "Porirua",
         "Wellington",
         "New Zealand",
         null,
         "APAC",
         "Oceania",
         "FUR-CH-10004050",
         "Furniture",
         "Chairs",
         "Novimex Executive Leather Armchair- Adjustable",
         "1822.08",
         4,
         "0.00",
         "564.84",
         "894.77",
         "Critical"
        ],
        [
         "31192",
         "IN-2012-86369",
         "2012-04-14",
         "2012-04-18",
         "Standard Class",
         "MB-18085",
         "Mick Brown",
         "Consumer",
         "Hamilton",
         "Waikato",
         "New Zealand",
         null,
         "APAC",
         "Oceania",
         "FUR-TA-10002958",
         "Furniture",
         "Tables",
         "Chromcraft Conference Table- Fully Assembled",
         "5244.84",
         6,
         "0.00",
         "996.48",
         "878.38",
         "High"
        ],
        [
         "40155",
         "CA-2014-135909",
         "2014-10-14",
         "2014-10-21",
         "Standard Class",
         "JW-15220",
         "Jane Waco",
         "Corporate",
         "Sacramento",
         "California",
         "United States",
         "95823",
         "US",
         "West",
         "OFF-BI-10003527",
         "Office Supplies",
         "Binders",
         "Fellowes PB500 Electric Punch Plastic Comb Binding Machine with Manual Bind",
         "5083.96",
         5,
         "0.20",
         "1906.49",
         "867.69",
         "Low"
        ],
        [
         "40936",
         "CA-2012-116638",
         "2012-01-28",
         "2012-01-31",
         "Second Class",
         "JH-15985",
         "Joseph Holt",
         "Consumer",
         "Concord",
         "North Carolina",
         "United States",
         "28027",
         "US",
         "South",
         "FUR-TA-10000198",
         "Furniture",
         "Tables",
         "Chromcraft Bull-Nose Wood Oval Conference Tables & Bases",
         "4297.64",
         13,
         "0.40",
         "-1862.31",
         "865.74",
         "Critical"
        ]
       ],
       "datasetInfos": [],
       "dbfsResultPath": null,
       "isJsonSchema": true,
       "metadata": {},
       "overflow": false,
       "plotOptions": {
        "customPlotOptions": {},
        "displayType": "table",
        "pivotAggregation": null,
        "pivotColumns": null,
        "xColumns": null,
        "yColumns": null
       },
       "removedWidgets": [],
       "schema": [
        {
         "metadata": "{}",
         "name": "row_id",
         "type": "\"string\""
        },
        {
         "metadata": "{}",
         "name": "order_id",
         "type": "\"string\""
        },
        {
         "metadata": "{}",
         "name": "order_date",
         "type": "\"date\""
        },
        {
         "metadata": "{}",
         "name": "ship_date",
         "type": "\"date\""
        },
        {
         "metadata": "{}",
         "name": "ship_mode",
         "type": "\"string\""
        },
        {
         "metadata": "{}",
         "name": "customer_id",
         "type": "\"string\""
        },
        {
         "metadata": "{}",
         "name": "customer_name",
         "type": "\"string\""
        },
        {
         "metadata": "{}",
         "name": "segment",
         "type": "\"string\""
        },
        {
         "metadata": "{}",
         "name": "city",
         "type": "\"string\""
        },
        {
         "metadata": "{}",
         "name": "state",
         "type": "\"string\""
        },
        {
         "metadata": "{}",
         "name": "country",
         "type": "\"string\""
        },
        {
         "metadata": "{}",
         "name": "postal_code",
         "type": "\"string\""
        },
        {
         "metadata": "{}",
         "name": "market",
         "type": "\"string\""
        },
        {
         "metadata": "{}",
         "name": "region",
         "type": "\"string\""
        },
        {
         "metadata": "{}",
         "name": "product_id",
         "type": "\"string\""
        },
        {
         "metadata": "{}",
         "name": "category",
         "type": "\"string\""
        },
        {
         "metadata": "{}",
         "name": "sub-category",
         "type": "\"string\""
        },
        {
         "metadata": "{}",
         "name": "product_name",
         "type": "\"string\""
        },
        {
         "metadata": "{}",
         "name": "sales",
         "type": "\"decimal(10,2)\""
        },
        {
         "metadata": "{}",
         "name": "quantity",
         "type": "\"integer\""
        },
        {
         "metadata": "{}",
         "name": "discount",
         "type": "\"decimal(4,2)\""
        },
        {
         "metadata": "{}",
         "name": "profit",
         "type": "\"decimal(10,2)\""
        },
        {
         "metadata": "{}",
         "name": "shipping_cost",
         "type": "\"decimal(10,2)\""
        },
        {
         "metadata": "{}",
         "name": "order_priority",
         "type": "\"string\""
        }
       ],
       "type": "table"
      }
     },
     "output_type": "display_data"
    }
   ],
   "source": [
    "# I want to see the data\n",
    "df_superstore = df_casted\n",
    "\n",
    "display(df_cleaned.limit(10))"
   ]
  },
  {
   "cell_type": "code",
   "execution_count": 0,
   "metadata": {
    "application/vnd.databricks.v1+cell": {
     "cellMetadata": {
      "byteLimit": 2048000,
      "rowLimit": 10000
     },
     "inputWidgets": {},
     "nuid": "263d0ccc-da25-4008-b398-3fd092ecd7bb",
     "showTitle": false,
     "tableResultSettingsMap": {},
     "title": ""
    }
   },
   "outputs": [
    {
     "output_type": "display_data",
     "data": {
      "text/html": [
       "<style scoped>\n",
       "  .table-result-container {\n",
       "    max-height: 300px;\n",
       "    overflow: auto;\n",
       "  }\n",
       "  table, th, td {\n",
       "    border: 1px solid black;\n",
       "    border-collapse: collapse;\n",
       "  }\n",
       "  th, td {\n",
       "    padding: 5px;\n",
       "  }\n",
       "  th {\n",
       "    text-align: left;\n",
       "  }\n",
       "</style><div class='table-result-container'><table class='table-result'><thead style='background-color: white'><tr><th>product_id</th><th>distinct_product_names</th></tr></thead><tbody><tr><td>OFF-PA-10004673</td><td>4</td></tr><tr><td>FUR-FU-10004960</td><td>3</td></tr><tr><td>OFF-AR-10003829</td><td>3</td></tr><tr><td>OFF-BI-10004654</td><td>3</td></tr><tr><td>OFF-AR-10003651</td><td>3</td></tr><tr><td>FUR-BO-10002204</td><td>3</td></tr><tr><td>TEC-AC-10004334</td><td>3</td></tr><tr><td>OFF-BI-10004632</td><td>3</td></tr><tr><td>TEC-AC-10002842</td><td>3</td></tr><tr><td>OFF-SU-10003629</td><td>3</td></tr></tbody></table></div>"
      ]
     },
     "metadata": {
      "application/vnd.databricks.v1+output": {
       "addedWidgets": {},
       "aggData": [],
       "aggError": "",
       "aggOverflow": false,
       "aggSchema": [],
       "aggSeriesLimitReached": false,
       "aggType": "",
       "arguments": {},
       "columnCustomDisplayInfos": {},
       "data": [
        [
         "OFF-PA-10004673",
         4
        ],
        [
         "FUR-FU-10004960",
         3
        ],
        [
         "OFF-AR-10003829",
         3
        ],
        [
         "OFF-BI-10004654",
         3
        ],
        [
         "OFF-AR-10003651",
         3
        ],
        [
         "FUR-BO-10002204",
         3
        ],
        [
         "TEC-AC-10004334",
         3
        ],
        [
         "OFF-BI-10004632",
         3
        ],
        [
         "TEC-AC-10002842",
         3
        ],
        [
         "OFF-SU-10003629",
         3
        ]
       ],
       "datasetInfos": [],
       "dbfsResultPath": null,
       "isJsonSchema": true,
       "metadata": {},
       "overflow": false,
       "plotOptions": {
        "customPlotOptions": {},
        "displayType": "table",
        "pivotAggregation": null,
        "pivotColumns": null,
        "xColumns": null,
        "yColumns": null
       },
       "removedWidgets": [],
       "schema": [
        {
         "metadata": "{}",
         "name": "product_id",
         "type": "\"string\""
        },
        {
         "metadata": "{}",
         "name": "distinct_product_names",
         "type": "\"long\""
        }
       ],
       "type": "table"
      }
     },
     "output_type": "display_data"
    }
   ],
   "source": [
    "from pyspark.sql.functions import col, countDistinct, dense_rank\n",
    "from pyspark.sql.window import Window\n",
    "\n",
    "# -----------------------------------\n",
    "# 1️⃣ Check if product_id has multiple product_names\n",
    "# -----------------------------------\n",
    "# Goal: Identify if the same product_id is linked to more than one product_name\n",
    "product_check = (\n",
    "    df_cleaned\n",
    "    .groupBy(\"product_id\")\n",
    "    .agg(countDistinct(\"product_name\").alias(\"distinct_product_names\"))\n",
    "    .orderBy(col(\"distinct_product_names\").desc())\n",
    ")\n",
    "\n",
    "display(product_check.limit(10))  # Show top cases with highest distinct names\n"
   ]
  },
  {
   "cell_type": "code",
   "execution_count": 0,
   "metadata": {
    "application/vnd.databricks.v1+cell": {
     "cellMetadata": {
      "byteLimit": 2048000,
      "rowLimit": 10000
     },
     "inputWidgets": {},
     "nuid": "31b49d7a-bdfd-436c-b4e6-ad3d83a4b5d1",
     "showTitle": false,
     "tableResultSettingsMap": {},
     "title": ""
    }
   },
   "outputs": [
    {
     "output_type": "display_data",
     "data": {
      "text/html": [
       "<style scoped>\n",
       "  .table-result-container {\n",
       "    max-height: 300px;\n",
       "    overflow: auto;\n",
       "  }\n",
       "  table, th, td {\n",
       "    border: 1px solid black;\n",
       "    border-collapse: collapse;\n",
       "  }\n",
       "  th, td {\n",
       "    padding: 5px;\n",
       "  }\n",
       "  th {\n",
       "    text-align: left;\n",
       "  }\n",
       "</style><div class='table-result-container'><table class='table-result'><thead style='background-color: white'><tr><th>product_name</th><th>product_key</th></tr></thead><tbody><tr><td>\"While you Were Out\"\" Message Book- One Form per Page\"</td><td>1</td></tr><tr><td>#10 Gummed Flap White Envelopes- 100/Box</td><td>2</td></tr><tr><td>#10 Self-Seal White Envelopes</td><td>3</td></tr><tr><td>#10 White Business Envelopes-4 1/8 x 9 1/2</td><td>4</td></tr><tr><td>#10- 4 1/8\" x 9 1/2\"\" Recycled Envelopes\"</td><td>5</td></tr><tr><td>#10- 4 1/8\" x 9 1/2\"\" Security-Tint Envelopes\"</td><td>6</td></tr><tr><td>#10-4 1/8\" x 9 1/2\"\" Premium Diagonal Seam Envelopes\"</td><td>7</td></tr><tr><td>#6 3/4 Gummed Flap White Envelopes</td><td>8</td></tr><tr><td>1.7 Cubic Foot Compact \"Cube\"\" Office Refrigerators\"</td><td>9</td></tr><tr><td>1/4 Fold Party Design Invitations & White Envelopes- 24 8-1/2\" X 11\"\" Cards- 25 Env./Pack\"</td><td>10</td></tr></tbody></table></div>"
      ]
     },
     "metadata": {
      "application/vnd.databricks.v1+output": {
       "addedWidgets": {},
       "aggData": [],
       "aggError": "",
       "aggOverflow": false,
       "aggSchema": [],
       "aggSeriesLimitReached": false,
       "aggType": "",
       "arguments": {},
       "columnCustomDisplayInfos": {},
       "data": [
        [
         "\"While you Were Out\"\" Message Book- One Form per Page\"",
         1
        ],
        [
         "#10 Gummed Flap White Envelopes- 100/Box",
         2
        ],
        [
         "#10 Self-Seal White Envelopes",
         3
        ],
        [
         "#10 White Business Envelopes-4 1/8 x 9 1/2",
         4
        ],
        [
         "#10- 4 1/8\" x 9 1/2\"\" Recycled Envelopes\"",
         5
        ],
        [
         "#10- 4 1/8\" x 9 1/2\"\" Security-Tint Envelopes\"",
         6
        ],
        [
         "#10-4 1/8\" x 9 1/2\"\" Premium Diagonal Seam Envelopes\"",
         7
        ],
        [
         "#6 3/4 Gummed Flap White Envelopes",
         8
        ],
        [
         "1.7 Cubic Foot Compact \"Cube\"\" Office Refrigerators\"",
         9
        ],
        [
         "1/4 Fold Party Design Invitations & White Envelopes- 24 8-1/2\" X 11\"\" Cards- 25 Env./Pack\"",
         10
        ]
       ],
       "datasetInfos": [],
       "dbfsResultPath": null,
       "isJsonSchema": true,
       "metadata": {},
       "overflow": false,
       "plotOptions": {
        "customPlotOptions": {},
        "displayType": "table",
        "pivotAggregation": null,
        "pivotColumns": null,
        "xColumns": null,
        "yColumns": null
       },
       "removedWidgets": [],
       "schema": [
        {
         "metadata": "{}",
         "name": "product_name",
         "type": "\"string\""
        },
        {
         "metadata": "{}",
         "name": "product_key",
         "type": "\"integer\""
        }
       ],
       "type": "table"
      }
     },
     "output_type": "display_data"
    }
   ],
   "source": [
    "# -----------------------------------\n",
    "# 2️⃣ Generate surrogate keys for each unique product_name\n",
    "# -----------------------------------\n",
    "# Get distinct product names\n",
    "distinct_products = df_cleaned.select(\"product_name\").distinct()\n",
    "\n",
    "# Assign surrogate keys in a consistent order\n",
    "window_spec = Window.orderBy(\"product_name\")\n",
    "product_keys = (\n",
    "    distinct_products\n",
    "    .withColumn(\"product_key\", dense_rank().over(window_spec))\n",
    ")\n",
    "\n",
    "# ✅ Show the mapping to prove surrogate keys were generated\n",
    "display(product_keys.limit(10))\n"
   ]
  },
  {
   "cell_type": "code",
   "execution_count": 0,
   "metadata": {
    "application/vnd.databricks.v1+cell": {
     "cellMetadata": {
      "byteLimit": 2048000,
      "rowLimit": 10000
     },
     "inputWidgets": {},
     "nuid": "0aa904cb-3f6a-4f09-9a87-d1b6ad4ead85",
     "showTitle": false,
     "tableResultSettingsMap": {},
     "title": ""
    }
   },
   "outputs": [
    {
     "output_type": "display_data",
     "data": {
      "text/html": [
       "<style scoped>\n",
       "  .table-result-container {\n",
       "    max-height: 300px;\n",
       "    overflow: auto;\n",
       "  }\n",
       "  table, th, td {\n",
       "    border: 1px solid black;\n",
       "    border-collapse: collapse;\n",
       "  }\n",
       "  th, td {\n",
       "    padding: 5px;\n",
       "  }\n",
       "  th {\n",
       "    text-align: left;\n",
       "  }\n",
       "</style><div class='table-result-container'><table class='table-result'><thead style='background-color: white'><tr><th>product_key</th><th>product_name</th><th>row_id</th><th>order_id</th><th>order_date</th><th>ship_date</th><th>ship_mode</th><th>customer_id</th><th>customer_name</th><th>segment</th><th>city</th><th>state</th><th>country</th><th>postal_code</th><th>market</th><th>region</th><th>category</th><th>sub-category</th><th>sales</th><th>quantity</th><th>discount</th><th>profit</th><th>shipping_cost</th><th>order_priority</th></tr></thead><tbody><tr><td>2751</td><td>Plantronics CS510 - Over-the-Head monaural Wireless Headset System</td><td>32298</td><td>CA-2012-124891</td><td>2012-07-31</td><td>2012-07-31</td><td>Same Day</td><td>RH-19495</td><td>Rick Hansen</td><td>Consumer</td><td>New York City</td><td>New York</td><td>United States</td><td>10024</td><td>US</td><td>East</td><td>Technology</td><td>Accessories</td><td>2309.65</td><td>7</td><td>0.00</td><td>762.18</td><td>933.57</td><td>Critical</td></tr><tr><td>2526</td><td>Novimex Executive Leather Armchair- Black</td><td>26341</td><td>IN-2013-77878</td><td>2013-02-05</td><td>2013-02-07</td><td>Second Class</td><td>JR-16210</td><td>Justin Ritter</td><td>Corporate</td><td>Wollongong</td><td>New South Wales</td><td>Australia</td><td>null</td><td>APAC</td><td>Oceania</td><td>Furniture</td><td>Chairs</td><td>3709.40</td><td>9</td><td>0.10</td><td>-288.77</td><td>923.63</td><td>Critical</td></tr><tr><td>2503</td><td>Nokia Smart Phone- with Caller ID</td><td>25330</td><td>IN-2013-71249</td><td>2013-10-17</td><td>2013-10-18</td><td>First Class</td><td>CR-12730</td><td>Craig Reiter</td><td>Consumer</td><td>Brisbane</td><td>Queensland</td><td>Australia</td><td>null</td><td>APAC</td><td>Oceania</td><td>Technology</td><td>Phones</td><td>5175.17</td><td>9</td><td>0.10</td><td>919.97</td><td>915.49</td><td>Medium</td></tr><tr><td>2415</td><td>Motorola Smart Phone- Cordless</td><td>13524</td><td>ES-2013-1579342</td><td>2013-01-28</td><td>2013-01-30</td><td>First Class</td><td>KM-16375</td><td>Katherine Murray</td><td>Home Office</td><td>Berlin</td><td>Berlin</td><td>Germany</td><td>null</td><td>EU</td><td>Central</td><td>Technology</td><td>Phones</td><td>2892.51</td><td>5</td><td>0.10</td><td>-96.54</td><td>910.16</td><td>Medium</td></tr><tr><td>3159</td><td>Sharp Wireless Fax- High-Speed</td><td>47221</td><td>SG-2013-4320</td><td>2013-11-05</td><td>2013-11-06</td><td>Same Day</td><td>RH-9495</td><td>Rick Hansen</td><td>Consumer</td><td>Dakar</td><td>Dakar</td><td>Senegal</td><td>null</td><td>Africa</td><td>Africa</td><td>Technology</td><td>Copiers</td><td>2832.96</td><td>8</td><td>0.00</td><td>311.52</td><td>903.04</td><td>Critical</td></tr><tr><td>2992</td><td>Samsung Smart Phone- with Caller ID</td><td>22732</td><td>IN-2013-42360</td><td>2013-06-28</td><td>2013-07-01</td><td>Second Class</td><td>JM-15655</td><td>Jim Mitchum</td><td>Corporate</td><td>Sydney</td><td>New South Wales</td><td>Australia</td><td>null</td><td>APAC</td><td>Oceania</td><td>Technology</td><td>Phones</td><td>2862.68</td><td>5</td><td>0.10</td><td>763.28</td><td>897.35</td><td>Critical</td></tr><tr><td>2525</td><td>Novimex Executive Leather Armchair- Adjustable</td><td>30570</td><td>IN-2011-81826</td><td>2011-11-07</td><td>2011-11-09</td><td>First Class</td><td>TS-21340</td><td>Toby Swindell</td><td>Consumer</td><td>Porirua</td><td>Wellington</td><td>New Zealand</td><td>null</td><td>APAC</td><td>Oceania</td><td>Furniture</td><td>Chairs</td><td>1822.08</td><td>4</td><td>0.00</td><td>564.84</td><td>894.77</td><td>Critical</td></tr><tr><td>922</td><td>Chromcraft Conference Table- Fully Assembled</td><td>31192</td><td>IN-2012-86369</td><td>2012-04-14</td><td>2012-04-18</td><td>Standard Class</td><td>MB-18085</td><td>Mick Brown</td><td>Consumer</td><td>Hamilton</td><td>Waikato</td><td>New Zealand</td><td>null</td><td>APAC</td><td>Oceania</td><td>Furniture</td><td>Tables</td><td>5244.84</td><td>6</td><td>0.00</td><td>996.48</td><td>878.38</td><td>High</td></tr><tr><td>1430</td><td>Fellowes PB500 Electric Punch Plastic Comb Binding Machine with Manual Bind</td><td>40155</td><td>CA-2014-135909</td><td>2014-10-14</td><td>2014-10-21</td><td>Standard Class</td><td>JW-15220</td><td>Jane Waco</td><td>Corporate</td><td>Sacramento</td><td>California</td><td>United States</td><td>95823</td><td>US</td><td>West</td><td>Office Supplies</td><td>Binders</td><td>5083.96</td><td>5</td><td>0.20</td><td>1906.49</td><td>867.69</td><td>Low</td></tr><tr><td>911</td><td>Chromcraft Bull-Nose Wood Oval Conference Tables & Bases</td><td>40936</td><td>CA-2012-116638</td><td>2012-01-28</td><td>2012-01-31</td><td>Second Class</td><td>JH-15985</td><td>Joseph Holt</td><td>Consumer</td><td>Concord</td><td>North Carolina</td><td>United States</td><td>28027</td><td>US</td><td>South</td><td>Furniture</td><td>Tables</td><td>4297.64</td><td>13</td><td>0.40</td><td>-1862.31</td><td>865.74</td><td>Critical</td></tr></tbody></table></div>"
      ]
     },
     "metadata": {
      "application/vnd.databricks.v1+output": {
       "addedWidgets": {},
       "aggData": [],
       "aggError": "",
       "aggOverflow": false,
       "aggSchema": [],
       "aggSeriesLimitReached": false,
       "aggType": "",
       "arguments": {},
       "columnCustomDisplayInfos": {},
       "data": [
        [
         2751,
         "Plantronics CS510 - Over-the-Head monaural Wireless Headset System",
         "32298",
         "CA-2012-124891",
         "2012-07-31",
         "2012-07-31",
         "Same Day",
         "RH-19495",
         "Rick Hansen",
         "Consumer",
         "New York City",
         "New York",
         "United States",
         "10024",
         "US",
         "East",
         "Technology",
         "Accessories",
         "2309.65",
         7,
         "0.00",
         "762.18",
         "933.57",
         "Critical"
        ],
        [
         2526,
         "Novimex Executive Leather Armchair- Black",
         "26341",
         "IN-2013-77878",
         "2013-02-05",
         "2013-02-07",
         "Second Class",
         "JR-16210",
         "Justin Ritter",
         "Corporate",
         "Wollongong",
         "New South Wales",
         "Australia",
         null,
         "APAC",
         "Oceania",
         "Furniture",
         "Chairs",
         "3709.40",
         9,
         "0.10",
         "-288.77",
         "923.63",
         "Critical"
        ],
        [
         2503,
         "Nokia Smart Phone- with Caller ID",
         "25330",
         "IN-2013-71249",
         "2013-10-17",
         "2013-10-18",
         "First Class",
         "CR-12730",
         "Craig Reiter",
         "Consumer",
         "Brisbane",
         "Queensland",
         "Australia",
         null,
         "APAC",
         "Oceania",
         "Technology",
         "Phones",
         "5175.17",
         9,
         "0.10",
         "919.97",
         "915.49",
         "Medium"
        ],
        [
         2415,
         "Motorola Smart Phone- Cordless",
         "13524",
         "ES-2013-1579342",
         "2013-01-28",
         "2013-01-30",
         "First Class",
         "KM-16375",
         "Katherine Murray",
         "Home Office",
         "Berlin",
         "Berlin",
         "Germany",
         null,
         "EU",
         "Central",
         "Technology",
         "Phones",
         "2892.51",
         5,
         "0.10",
         "-96.54",
         "910.16",
         "Medium"
        ],
        [
         3159,
         "Sharp Wireless Fax- High-Speed",
         "47221",
         "SG-2013-4320",
         "2013-11-05",
         "2013-11-06",
         "Same Day",
         "RH-9495",
         "Rick Hansen",
         "Consumer",
         "Dakar",
         "Dakar",
         "Senegal",
         null,
         "Africa",
         "Africa",
         "Technology",
         "Copiers",
         "2832.96",
         8,
         "0.00",
         "311.52",
         "903.04",
         "Critical"
        ],
        [
         2992,
         "Samsung Smart Phone- with Caller ID",
         "22732",
         "IN-2013-42360",
         "2013-06-28",
         "2013-07-01",
         "Second Class",
         "JM-15655",
         "Jim Mitchum",
         "Corporate",
         "Sydney",
         "New South Wales",
         "Australia",
         null,
         "APAC",
         "Oceania",
         "Technology",
         "Phones",
         "2862.68",
         5,
         "0.10",
         "763.28",
         "897.35",
         "Critical"
        ],
        [
         2525,
         "Novimex Executive Leather Armchair- Adjustable",
         "30570",
         "IN-2011-81826",
         "2011-11-07",
         "2011-11-09",
         "First Class",
         "TS-21340",
         "Toby Swindell",
         "Consumer",
         "Porirua",
         "Wellington",
         "New Zealand",
         null,
         "APAC",
         "Oceania",
         "Furniture",
         "Chairs",
         "1822.08",
         4,
         "0.00",
         "564.84",
         "894.77",
         "Critical"
        ],
        [
         922,
         "Chromcraft Conference Table- Fully Assembled",
         "31192",
         "IN-2012-86369",
         "2012-04-14",
         "2012-04-18",
         "Standard Class",
         "MB-18085",
         "Mick Brown",
         "Consumer",
         "Hamilton",
         "Waikato",
         "New Zealand",
         null,
         "APAC",
         "Oceania",
         "Furniture",
         "Tables",
         "5244.84",
         6,
         "0.00",
         "996.48",
         "878.38",
         "High"
        ],
        [
         1430,
         "Fellowes PB500 Electric Punch Plastic Comb Binding Machine with Manual Bind",
         "40155",
         "CA-2014-135909",
         "2014-10-14",
         "2014-10-21",
         "Standard Class",
         "JW-15220",
         "Jane Waco",
         "Corporate",
         "Sacramento",
         "California",
         "United States",
         "95823",
         "US",
         "West",
         "Office Supplies",
         "Binders",
         "5083.96",
         5,
         "0.20",
         "1906.49",
         "867.69",
         "Low"
        ],
        [
         911,
         "Chromcraft Bull-Nose Wood Oval Conference Tables & Bases",
         "40936",
         "CA-2012-116638",
         "2012-01-28",
         "2012-01-31",
         "Second Class",
         "JH-15985",
         "Joseph Holt",
         "Consumer",
         "Concord",
         "North Carolina",
         "United States",
         "28027",
         "US",
         "South",
         "Furniture",
         "Tables",
         "4297.64",
         13,
         "0.40",
         "-1862.31",
         "865.74",
         "Critical"
        ]
       ],
       "datasetInfos": [],
       "dbfsResultPath": null,
       "isJsonSchema": true,
       "metadata": {},
       "overflow": false,
       "plotOptions": {
        "customPlotOptions": {},
        "displayType": "table",
        "pivotAggregation": null,
        "pivotColumns": null,
        "xColumns": null,
        "yColumns": null
       },
       "removedWidgets": [],
       "schema": [
        {
         "metadata": "{}",
         "name": "product_key",
         "type": "\"integer\""
        },
        {
         "metadata": "{}",
         "name": "product_name",
         "type": "\"string\""
        },
        {
         "metadata": "{}",
         "name": "row_id",
         "type": "\"string\""
        },
        {
         "metadata": "{}",
         "name": "order_id",
         "type": "\"string\""
        },
        {
         "metadata": "{}",
         "name": "order_date",
         "type": "\"date\""
        },
        {
         "metadata": "{}",
         "name": "ship_date",
         "type": "\"date\""
        },
        {
         "metadata": "{}",
         "name": "ship_mode",
         "type": "\"string\""
        },
        {
         "metadata": "{}",
         "name": "customer_id",
         "type": "\"string\""
        },
        {
         "metadata": "{}",
         "name": "customer_name",
         "type": "\"string\""
        },
        {
         "metadata": "{}",
         "name": "segment",
         "type": "\"string\""
        },
        {
         "metadata": "{}",
         "name": "city",
         "type": "\"string\""
        },
        {
         "metadata": "{}",
         "name": "state",
         "type": "\"string\""
        },
        {
         "metadata": "{}",
         "name": "country",
         "type": "\"string\""
        },
        {
         "metadata": "{}",
         "name": "postal_code",
         "type": "\"string\""
        },
        {
         "metadata": "{}",
         "name": "market",
         "type": "\"string\""
        },
        {
         "metadata": "{}",
         "name": "region",
         "type": "\"string\""
        },
        {
         "metadata": "{}",
         "name": "category",
         "type": "\"string\""
        },
        {
         "metadata": "{}",
         "name": "sub-category",
         "type": "\"string\""
        },
        {
         "metadata": "{}",
         "name": "sales",
         "type": "\"decimal(10,2)\""
        },
        {
         "metadata": "{}",
         "name": "quantity",
         "type": "\"integer\""
        },
        {
         "metadata": "{}",
         "name": "discount",
         "type": "\"decimal(4,2)\""
        },
        {
         "metadata": "{}",
         "name": "profit",
         "type": "\"decimal(10,2)\""
        },
        {
         "metadata": "{}",
         "name": "shipping_cost",
         "type": "\"decimal(10,2)\""
        },
        {
         "metadata": "{}",
         "name": "order_priority",
         "type": "\"string\""
        }
       ],
       "type": "table"
      }
     },
     "output_type": "display_data"
    }
   ],
   "source": [
    "# 3️⃣ Create flat file by replacing old product_id with surrogate key\n",
    "# -----------------------------------\n",
    "df_flat = (\n",
    "    df_cleaned.drop(\"product_id\")  # Remove old product_id\n",
    "    .join(product_keys, on=\"product_name\", how=\"left\")  # Add surrogate key\n",
    ")\n",
    "\n",
    "# Optional: Reorder columns so product_key appears first\n",
    "cols = [\"product_key\"] + [c for c in df_flat.columns if c != \"product_key\"]\n",
    "df_flat = df_flat.select(cols)\n",
    "\n",
    "display(df_flat.limit(10))\n"
   ]
  },
  {
   "cell_type": "code",
   "execution_count": 0,
   "metadata": {
    "application/vnd.databricks.v1+cell": {
     "cellMetadata": {
      "byteLimit": 2048000,
      "rowLimit": 10000
     },
     "inputWidgets": {},
     "nuid": "e812374a-aecd-4f8c-80cb-91718f27e66a",
     "showTitle": false,
     "tableResultSettingsMap": {},
     "title": ""
    }
   },
   "outputs": [
    {
     "output_type": "stream",
     "name": "stdout",
     "output_type": "stream",
     "text": [
      "+-----------+----------------------+\n|product_key|distinct_names_per_key|\n+-----------+----------------------+\n+-----------+----------------------+\n\n"
     ]
    }
   ],
   "source": [
    "# 4️⃣ Verify surrogate keys have unique product_name mapping\n",
    "# -----------------------------------\n",
    "check_df = (\n",
    "    df_flat\n",
    "    .groupBy(\"product_key\")\n",
    "    .agg(countDistinct(\"product_name\").alias(\"distinct_names_per_key\"))\n",
    "    .filter(col(\"distinct_names_per_key\") > 1)  # Keep only problem cases\n",
    ")\n",
    "\n",
    "# If this returns no rows → clean mapping\n",
    "check_df.show(truncate=False)\n"
   ]
  },
  {
   "cell_type": "code",
   "execution_count": 0,
   "metadata": {
    "application/vnd.databricks.v1+cell": {
     "cellMetadata": {
      "byteLimit": 2048000,
      "rowLimit": 10000
     },
     "inputWidgets": {},
     "nuid": "d62880cf-5881-4062-9235-477b3cb416ad",
     "showTitle": false,
     "tableResultSettingsMap": {},
     "title": ""
    }
   },
   "outputs": [
    {
     "output_type": "stream",
     "name": "stdout",
     "output_type": "stream",
     "text": [
      "✅ Flat file successfully saved to Silver layer.\n"
     ]
    },
    {
     "output_type": "display_data",
     "data": {
      "text/html": [
       "<style scoped>\n",
       "  .table-result-container {\n",
       "    max-height: 300px;\n",
       "    overflow: auto;\n",
       "  }\n",
       "  table, th, td {\n",
       "    border: 1px solid black;\n",
       "    border-collapse: collapse;\n",
       "  }\n",
       "  th, td {\n",
       "    padding: 5px;\n",
       "  }\n",
       "  th {\n",
       "    text-align: left;\n",
       "  }\n",
       "</style><div class='table-result-container'><table class='table-result'><thead style='background-color: white'><tr><th>product_name</th><th>row_id</th><th>order_id</th><th>order_date</th><th>ship_date</th><th>ship_mode</th><th>customer_id</th><th>customer_name</th><th>segment</th><th>city</th><th>state</th><th>country</th><th>postal_code</th><th>market</th><th>region</th><th>category</th><th>sub-category</th><th>sales</th><th>quantity</th><th>discount</th><th>profit</th><th>shipping_cost</th><th>order_priority</th><th>product_key</th></tr></thead><tbody><tr><td>Plantronics CS510 - Over-the-Head monaural Wireless Headset System</td><td>32298</td><td>CA-2012-124891</td><td>2012-07-31</td><td>2012-07-31</td><td>Same Day</td><td>RH-19495</td><td>Rick Hansen</td><td>Consumer</td><td>New York City</td><td>New York</td><td>United States</td><td>10024</td><td>US</td><td>East</td><td>Technology</td><td>Accessories</td><td>2309.65</td><td>7</td><td>0.00</td><td>762.18</td><td>933.57</td><td>Critical</td><td>2751</td></tr><tr><td>Novimex Executive Leather Armchair- Black</td><td>26341</td><td>IN-2013-77878</td><td>2013-02-05</td><td>2013-02-07</td><td>Second Class</td><td>JR-16210</td><td>Justin Ritter</td><td>Corporate</td><td>Wollongong</td><td>New South Wales</td><td>Australia</td><td>null</td><td>APAC</td><td>Oceania</td><td>Furniture</td><td>Chairs</td><td>3709.40</td><td>9</td><td>0.10</td><td>-288.77</td><td>923.63</td><td>Critical</td><td>2526</td></tr><tr><td>Nokia Smart Phone- with Caller ID</td><td>25330</td><td>IN-2013-71249</td><td>2013-10-17</td><td>2013-10-18</td><td>First Class</td><td>CR-12730</td><td>Craig Reiter</td><td>Consumer</td><td>Brisbane</td><td>Queensland</td><td>Australia</td><td>null</td><td>APAC</td><td>Oceania</td><td>Technology</td><td>Phones</td><td>5175.17</td><td>9</td><td>0.10</td><td>919.97</td><td>915.49</td><td>Medium</td><td>2503</td></tr><tr><td>Motorola Smart Phone- Cordless</td><td>13524</td><td>ES-2013-1579342</td><td>2013-01-28</td><td>2013-01-30</td><td>First Class</td><td>KM-16375</td><td>Katherine Murray</td><td>Home Office</td><td>Berlin</td><td>Berlin</td><td>Germany</td><td>null</td><td>EU</td><td>Central</td><td>Technology</td><td>Phones</td><td>2892.51</td><td>5</td><td>0.10</td><td>-96.54</td><td>910.16</td><td>Medium</td><td>2415</td></tr><tr><td>Sharp Wireless Fax- High-Speed</td><td>47221</td><td>SG-2013-4320</td><td>2013-11-05</td><td>2013-11-06</td><td>Same Day</td><td>RH-9495</td><td>Rick Hansen</td><td>Consumer</td><td>Dakar</td><td>Dakar</td><td>Senegal</td><td>null</td><td>Africa</td><td>Africa</td><td>Technology</td><td>Copiers</td><td>2832.96</td><td>8</td><td>0.00</td><td>311.52</td><td>903.04</td><td>Critical</td><td>3159</td></tr><tr><td>Samsung Smart Phone- with Caller ID</td><td>22732</td><td>IN-2013-42360</td><td>2013-06-28</td><td>2013-07-01</td><td>Second Class</td><td>JM-15655</td><td>Jim Mitchum</td><td>Corporate</td><td>Sydney</td><td>New South Wales</td><td>Australia</td><td>null</td><td>APAC</td><td>Oceania</td><td>Technology</td><td>Phones</td><td>2862.68</td><td>5</td><td>0.10</td><td>763.28</td><td>897.35</td><td>Critical</td><td>2992</td></tr><tr><td>Novimex Executive Leather Armchair- Adjustable</td><td>30570</td><td>IN-2011-81826</td><td>2011-11-07</td><td>2011-11-09</td><td>First Class</td><td>TS-21340</td><td>Toby Swindell</td><td>Consumer</td><td>Porirua</td><td>Wellington</td><td>New Zealand</td><td>null</td><td>APAC</td><td>Oceania</td><td>Furniture</td><td>Chairs</td><td>1822.08</td><td>4</td><td>0.00</td><td>564.84</td><td>894.77</td><td>Critical</td><td>2525</td></tr><tr><td>Chromcraft Conference Table- Fully Assembled</td><td>31192</td><td>IN-2012-86369</td><td>2012-04-14</td><td>2012-04-18</td><td>Standard Class</td><td>MB-18085</td><td>Mick Brown</td><td>Consumer</td><td>Hamilton</td><td>Waikato</td><td>New Zealand</td><td>null</td><td>APAC</td><td>Oceania</td><td>Furniture</td><td>Tables</td><td>5244.84</td><td>6</td><td>0.00</td><td>996.48</td><td>878.38</td><td>High</td><td>922</td></tr><tr><td>Fellowes PB500 Electric Punch Plastic Comb Binding Machine with Manual Bind</td><td>40155</td><td>CA-2014-135909</td><td>2014-10-14</td><td>2014-10-21</td><td>Standard Class</td><td>JW-15220</td><td>Jane Waco</td><td>Corporate</td><td>Sacramento</td><td>California</td><td>United States</td><td>95823</td><td>US</td><td>West</td><td>Office Supplies</td><td>Binders</td><td>5083.96</td><td>5</td><td>0.20</td><td>1906.49</td><td>867.69</td><td>Low</td><td>1430</td></tr><tr><td>Chromcraft Bull-Nose Wood Oval Conference Tables & Bases</td><td>40936</td><td>CA-2012-116638</td><td>2012-01-28</td><td>2012-01-31</td><td>Second Class</td><td>JH-15985</td><td>Joseph Holt</td><td>Consumer</td><td>Concord</td><td>North Carolina</td><td>United States</td><td>28027</td><td>US</td><td>South</td><td>Furniture</td><td>Tables</td><td>4297.64</td><td>13</td><td>0.40</td><td>-1862.31</td><td>865.74</td><td>Critical</td><td>911</td></tr></tbody></table></div>"
      ]
     },
     "metadata": {
      "application/vnd.databricks.v1+output": {
       "addedWidgets": {},
       "aggData": [],
       "aggError": "",
       "aggOverflow": false,
       "aggSchema": [],
       "aggSeriesLimitReached": false,
       "aggType": "",
       "arguments": {},
       "columnCustomDisplayInfos": {},
       "data": [
        [
         "Plantronics CS510 - Over-the-Head monaural Wireless Headset System",
         "32298",
         "CA-2012-124891",
         "2012-07-31",
         "2012-07-31",
         "Same Day",
         "RH-19495",
         "Rick Hansen",
         "Consumer",
         "New York City",
         "New York",
         "United States",
         "10024",
         "US",
         "East",
         "Technology",
         "Accessories",
         "2309.65",
         7,
         "0.00",
         "762.18",
         "933.57",
         "Critical",
         2751
        ],
        [
         "Novimex Executive Leather Armchair- Black",
         "26341",
         "IN-2013-77878",
         "2013-02-05",
         "2013-02-07",
         "Second Class",
         "JR-16210",
         "Justin Ritter",
         "Corporate",
         "Wollongong",
         "New South Wales",
         "Australia",
         null,
         "APAC",
         "Oceania",
         "Furniture",
         "Chairs",
         "3709.40",
         9,
         "0.10",
         "-288.77",
         "923.63",
         "Critical",
         2526
        ],
        [
         "Nokia Smart Phone- with Caller ID",
         "25330",
         "IN-2013-71249",
         "2013-10-17",
         "2013-10-18",
         "First Class",
         "CR-12730",
         "Craig Reiter",
         "Consumer",
         "Brisbane",
         "Queensland",
         "Australia",
         null,
         "APAC",
         "Oceania",
         "Technology",
         "Phones",
         "5175.17",
         9,
         "0.10",
         "919.97",
         "915.49",
         "Medium",
         2503
        ],
        [
         "Motorola Smart Phone- Cordless",
         "13524",
         "ES-2013-1579342",
         "2013-01-28",
         "2013-01-30",
         "First Class",
         "KM-16375",
         "Katherine Murray",
         "Home Office",
         "Berlin",
         "Berlin",
         "Germany",
         null,
         "EU",
         "Central",
         "Technology",
         "Phones",
         "2892.51",
         5,
         "0.10",
         "-96.54",
         "910.16",
         "Medium",
         2415
        ],
        [
         "Sharp Wireless Fax- High-Speed",
         "47221",
         "SG-2013-4320",
         "2013-11-05",
         "2013-11-06",
         "Same Day",
         "RH-9495",
         "Rick Hansen",
         "Consumer",
         "Dakar",
         "Dakar",
         "Senegal",
         null,
         "Africa",
         "Africa",
         "Technology",
         "Copiers",
         "2832.96",
         8,
         "0.00",
         "311.52",
         "903.04",
         "Critical",
         3159
        ],
        [
         "Samsung Smart Phone- with Caller ID",
         "22732",
         "IN-2013-42360",
         "2013-06-28",
         "2013-07-01",
         "Second Class",
         "JM-15655",
         "Jim Mitchum",
         "Corporate",
         "Sydney",
         "New South Wales",
         "Australia",
         null,
         "APAC",
         "Oceania",
         "Technology",
         "Phones",
         "2862.68",
         5,
         "0.10",
         "763.28",
         "897.35",
         "Critical",
         2992
        ],
        [
         "Novimex Executive Leather Armchair- Adjustable",
         "30570",
         "IN-2011-81826",
         "2011-11-07",
         "2011-11-09",
         "First Class",
         "TS-21340",
         "Toby Swindell",
         "Consumer",
         "Porirua",
         "Wellington",
         "New Zealand",
         null,
         "APAC",
         "Oceania",
         "Furniture",
         "Chairs",
         "1822.08",
         4,
         "0.00",
         "564.84",
         "894.77",
         "Critical",
         2525
        ],
        [
         "Chromcraft Conference Table- Fully Assembled",
         "31192",
         "IN-2012-86369",
         "2012-04-14",
         "2012-04-18",
         "Standard Class",
         "MB-18085",
         "Mick Brown",
         "Consumer",
         "Hamilton",
         "Waikato",
         "New Zealand",
         null,
         "APAC",
         "Oceania",
         "Furniture",
         "Tables",
         "5244.84",
         6,
         "0.00",
         "996.48",
         "878.38",
         "High",
         922
        ],
        [
         "Fellowes PB500 Electric Punch Plastic Comb Binding Machine with Manual Bind",
         "40155",
         "CA-2014-135909",
         "2014-10-14",
         "2014-10-21",
         "Standard Class",
         "JW-15220",
         "Jane Waco",
         "Corporate",
         "Sacramento",
         "California",
         "United States",
         "95823",
         "US",
         "West",
         "Office Supplies",
         "Binders",
         "5083.96",
         5,
         "0.20",
         "1906.49",
         "867.69",
         "Low",
         1430
        ],
        [
         "Chromcraft Bull-Nose Wood Oval Conference Tables & Bases",
         "40936",
         "CA-2012-116638",
         "2012-01-28",
         "2012-01-31",
         "Second Class",
         "JH-15985",
         "Joseph Holt",
         "Consumer",
         "Concord",
         "North Carolina",
         "United States",
         "28027",
         "US",
         "South",
         "Furniture",
         "Tables",
         "4297.64",
         13,
         "0.40",
         "-1862.31",
         "865.74",
         "Critical",
         911
        ]
       ],
       "datasetInfos": [],
       "dbfsResultPath": null,
       "isJsonSchema": true,
       "metadata": {},
       "overflow": false,
       "plotOptions": {
        "customPlotOptions": {},
        "displayType": "table",
        "pivotAggregation": null,
        "pivotColumns": null,
        "xColumns": null,
        "yColumns": null
       },
       "removedWidgets": [],
       "schema": [
        {
         "metadata": "{}",
         "name": "product_name",
         "type": "\"string\""
        },
        {
         "metadata": "{}",
         "name": "row_id",
         "type": "\"string\""
        },
        {
         "metadata": "{}",
         "name": "order_id",
         "type": "\"string\""
        },
        {
         "metadata": "{}",
         "name": "order_date",
         "type": "\"date\""
        },
        {
         "metadata": "{}",
         "name": "ship_date",
         "type": "\"date\""
        },
        {
         "metadata": "{}",
         "name": "ship_mode",
         "type": "\"string\""
        },
        {
         "metadata": "{}",
         "name": "customer_id",
         "type": "\"string\""
        },
        {
         "metadata": "{}",
         "name": "customer_name",
         "type": "\"string\""
        },
        {
         "metadata": "{}",
         "name": "segment",
         "type": "\"string\""
        },
        {
         "metadata": "{}",
         "name": "city",
         "type": "\"string\""
        },
        {
         "metadata": "{}",
         "name": "state",
         "type": "\"string\""
        },
        {
         "metadata": "{}",
         "name": "country",
         "type": "\"string\""
        },
        {
         "metadata": "{}",
         "name": "postal_code",
         "type": "\"string\""
        },
        {
         "metadata": "{}",
         "name": "market",
         "type": "\"string\""
        },
        {
         "metadata": "{}",
         "name": "region",
         "type": "\"string\""
        },
        {
         "metadata": "{}",
         "name": "category",
         "type": "\"string\""
        },
        {
         "metadata": "{}",
         "name": "sub-category",
         "type": "\"string\""
        },
        {
         "metadata": "{}",
         "name": "sales",
         "type": "\"decimal(10,2)\""
        },
        {
         "metadata": "{}",
         "name": "quantity",
         "type": "\"integer\""
        },
        {
         "metadata": "{}",
         "name": "discount",
         "type": "\"decimal(4,2)\""
        },
        {
         "metadata": "{}",
         "name": "profit",
         "type": "\"decimal(10,2)\""
        },
        {
         "metadata": "{}",
         "name": "shipping_cost",
         "type": "\"decimal(10,2)\""
        },
        {
         "metadata": "{}",
         "name": "order_priority",
         "type": "\"string\""
        },
        {
         "metadata": "{}",
         "name": "product_key",
         "type": "\"integer\""
        }
       ],
       "type": "table"
      }
     },
     "output_type": "display_data"
    }
   ],
   "source": [
    "# 5️⃣ Save the flat file to Silver layer as Parquet\n",
    "# -----------------------------------\n",
    "# Target path in the Silver container\n",
    "silver_path = \"abfss://silver@sanilayanalytics.dfs.core.windows.net/global_superstore_silver\"\n",
    "\n",
    "# Write df_flat to the Silver layer in Parquet format\n",
    "# 'overwrite' mode ensures fresh data replaces any old file\n",
    "df_flat.write.mode(\"overwrite\").parquet(silver_path)\n",
    "\n",
    "print(\"✅ Flat file successfully saved to Silver layer.\")\n",
    "\n",
    "# 6️⃣ Read back the saved Parquet file from Silver layer for verification\n",
    "# -----------------------------------\n",
    "df_silver = spark.read.parquet(silver_path)\n",
    "\n",
    "# Display a sample of the data from Silver layer\n",
    "display(df_silver.limit(10))\n"
   ]
  }
 ],
 "metadata": {
  "application/vnd.databricks.v1+notebook": {
   "computePreferences": null,
   "dashboards": [],
   "environmentMetadata": {
    "base_environment": "",
    "environment_version": "1"
   },
   "inputWidgetPreferences": null,
   "language": "python",
   "notebookMetadata": {
    "pythonIndentUnit": 4
   },
   "notebookName": "SpuerStoreSilver",
   "widgets": {}
  }
 },
 "nbformat": 4,
 "nbformat_minor": 0
}